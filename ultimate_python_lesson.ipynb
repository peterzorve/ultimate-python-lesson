{
 "cells": [
  {
   "cell_type": "markdown",
   "metadata": {},
   "source": [
    "<h4 style=\"background-color: orange; color: white; font-family: Consolas, sans-serif; border-radius: 3px; padding: 3px; padding-left: 10px; padding-top: 10px; padding-bottom: 10px \">\n",
    "    Chapter 1: Packages Managers\n",
    "</h4>\n"
   ]
  },
  {
   "cell_type": "markdown",
   "metadata": {},
   "source": [
    "<h4 style=\"background-color: black; color: orange; font-family: Consolas, sans-serif; border-radius: 3px; padding: 3px; padding-left: 10px;\">\n",
    "    1. Pip\n",
    "</h4>\n"
   ]
  },
  {
   "cell_type": "markdown",
   "metadata": {},
   "source": [
    "    pip is the standard package manager for Python. Think of it as a tool that helps you install, update, and manage external Python libraries (packages) from the Python Package Index (PyPI), which is like a huge online warehouse of Python code.\n",
    "\n",
    "    For example, if you want to use the requests library to make HTTP requests in Python, you don’t have to manually download its code. Instead, you simply run:\n",
    "\n",
    "    pip install requests\n"
   ]
  },
  {
   "cell_type": "markdown",
   "metadata": {},
   "source": [
    "#### Key commands with pip\n",
    "\n",
    "✅ Install a package\n",
    "\n",
    "    pip install package_name\n",
    "\n",
    "✅ Upgrade a package\n",
    "\n",
    "    pip install --upgrade package_name\n",
    "\n",
    "✅ Uninstall a package\n",
    "\n",
    "    pip uninstall package_name\n",
    "\n",
    "✅ List installed packages\n",
    "\n",
    "    pip list\n",
    "\n",
    "✅ Show info about a package\n",
    "\n",
    "    pip show package_name\n",
    "\n",
    "✅ Freeze (get versions of installed packages) — very useful for requirements files\n",
    "\n",
    "    pip freeze\n"
   ]
  },
  {
   "cell_type": "markdown",
   "metadata": {},
   "source": [
    "<h4 style=\"background-color: black; color: orange; font-family: Consolas, sans-serif; border-radius: 3px; padding: 3px; padding-left: 10px;\">\n",
    "    2. Conda\n",
    "</h4>\n"
   ]
  },
  {
   "cell_type": "markdown",
   "metadata": {},
   "source": [
    "While pip is the default Python-only package manager, conda is a general-purpose package manager and environment manager that works for any kind of software, not just Python — for example, C libraries, R packages, even compilers.\n"
   ]
  },
  {
   "cell_type": "markdown",
   "metadata": {},
   "source": [
    "### Example conda commands\n",
    "\n",
    "✅ Create an environment\n",
    "\n",
    "    conda create --name myenv python=3.10\n",
    "\n",
    "✅ Activate an environment\n",
    "\n",
    "    conda activate myenv\n",
    "\n",
    "✅ Install a package\n",
    "\n",
    "    conda install numpy\n",
    "\n",
    "✅ List environments\n",
    "\n",
    "    conda env list\n",
    "\n",
    "✅ List packages in the current environment\n",
    "\n",
    "    conda list\n",
    "\n",
    "✅ Remove an environment\n",
    "\n",
    "    conda remove --name myenv --all\n"
   ]
  },
  {
   "cell_type": "markdown",
   "metadata": {},
   "source": [
    "<h4 style=\"background-color: orange; color: white; font-family: Consolas, sans-serif; border-radius: 3px; padding: 3px; padding-left: 10px; padding-top: 10px; padding-bottom: 10px \">\n",
    "    Chapter 1: Basics of Python\n",
    "</h4>\n"
   ]
  },
  {
   "cell_type": "markdown",
   "metadata": {},
   "source": [
    "<h4 style=\"background-color: black; color: orange; font-family: Consolas, sans-serif; border-radius: 3px; padding: 3px; padding-left: 10px;\">\n",
    "    1.1. Basic Syntax\n",
    "</h4>\n"
   ]
  },
  {
   "cell_type": "markdown",
   "metadata": {},
   "source": [
    "Let’s break down basic Python syntax clearly and simply\n"
   ]
  },
  {
   "cell_type": "markdown",
   "metadata": {},
   "source": [
    "#### 1️⃣ Printing output\n",
    "\n",
    "    Use the print() function:\n"
   ]
  },
  {
   "cell_type": "code",
   "execution_count": 65,
   "metadata": {},
   "outputs": [
    {
     "name": "stdout",
     "output_type": "stream",
     "text": [
      "Hello, world!\n",
      "I hope I finished this chapter today\n"
     ]
    }
   ],
   "source": [
    "print(\"Hello, world!\")\n",
    "print(\"I hope I finished this chapter today\")"
   ]
  },
  {
   "cell_type": "markdown",
   "metadata": {},
   "source": [
    "### 2️⃣ Comments\n",
    "\n",
    "    Comments start with # and are ignored by Python:\n"
   ]
  },
  {
   "cell_type": "code",
   "execution_count": 66,
   "metadata": {},
   "outputs": [
    {
     "name": "stdout",
     "output_type": "stream",
     "text": [
      "Comments are ignored by Python\n"
     ]
    }
   ],
   "source": [
    "# This is a comment\n",
    "print(\"Comments are ignored by Python\")"
   ]
  },
  {
   "cell_type": "markdown",
   "metadata": {},
   "source": [
    "### 3️⃣ Variables\n",
    "\n",
    "    You do not declare types explicitly (Python is dynamically typed):\n"
   ]
  },
  {
   "cell_type": "code",
   "execution_count": 67,
   "metadata": {},
   "outputs": [],
   "source": [
    "x = 5\n",
    "name = \"Alice\"\n",
    "pi = 3.14159"
   ]
  },
  {
   "cell_type": "markdown",
   "metadata": {},
   "source": [
    "### 4️⃣ Indentation (very important in Python)\n",
    "\n",
    "    Python uses indentation to define code blocks — no {} braces like in C/C++/Java:\n"
   ]
  },
  {
   "cell_type": "code",
   "execution_count": 68,
   "metadata": {},
   "outputs": [
    {
     "name": "stdout",
     "output_type": "stream",
     "text": [
      "x is positive\n"
     ]
    }
   ],
   "source": [
    "if x > 0:\n",
    "    print(\"x is positive\")\n",
    "else:\n",
    "    print(\"x is non-positive\")"
   ]
  },
  {
   "cell_type": "markdown",
   "metadata": {},
   "source": [
    "### 5️⃣ Data types\n",
    "\n",
    "    Some common ones:\n"
   ]
  },
  {
   "cell_type": "markdown",
   "metadata": {},
   "source": [
    "    integer → 5\n",
    "    float → 3.14\n",
    "    string → \"hello\"\n",
    "    boolean → True / False\n",
    "    list → [1, 2, 3]\n",
    "    dictionary → {\"key\": \"value\"}\n",
    "    tuple → (1, 2, 3)\n",
    "    set  → {\"date\", \"age\"}\n"
   ]
  },
  {
   "cell_type": "code",
   "execution_count": 69,
   "metadata": {},
   "outputs": [],
   "source": [
    "my_age = 10     # Integer\n",
    "my_salary_rate = 10.99     # Float\n",
    "my_name = \"Peter Zorve\"     # String\n",
    "can_vote = False     # Boolean\n",
    "my_wardrope = [\"shoe\", \"t-shirt\", \"pants\", \"belt\"]      # List\n",
    "my_data = {\"address\": \"Finland\", \"email\": \"peter.zorve@eduzolve.com\", \"favorate-spot\": \"football\"}     # dictionary\n",
    "my_items = (1, 2, 3)\n",
    "my_favorite_colors = {\"blue\", \"green\", \"black\", \"white\"}\n"
   ]
  },
  {
   "cell_type": "code",
   "execution_count": 70,
   "metadata": {},
   "outputs": [
    {
     "name": "stdout",
     "output_type": "stream",
     "text": [
      "<class 'int'>\n",
      "<class 'float'>\n",
      "<class 'str'>\n",
      "<class 'bool'>\n",
      "<class 'list'>\n",
      "<class 'dict'>\n",
      "<class 'tuple'>\n",
      "<class 'set'>\n"
     ]
    }
   ],
   "source": [
    "print(type(my_age))\n",
    "print(type(my_salary_rate))\n",
    "print(type(my_name))\n",
    "print(type(can_vote))\n",
    "print(type(my_wardrope))\n",
    "print(type(my_data))\n",
    "print(type(my_items))\n",
    "print(type(my_favorite_colors))\n"
   ]
  },
  {
   "cell_type": "markdown",
   "metadata": {},
   "source": [
    "### 1. Integer\n",
    "\n",
    "    Integer - An integer is a negative and positive whole number including 0\n"
   ]
  },
  {
   "cell_type": "code",
   "execution_count": 71,
   "metadata": {},
   "outputs": [
    {
     "name": "stdout",
     "output_type": "stream",
     "text": [
      "12\n",
      "<class 'int'>\n",
      "<class 'int'>\n"
     ]
    }
   ],
   "source": [
    "number = 12\n",
    "count = -10000\n",
    "\n",
    "print(number)\n",
    "print(type(number))\n",
    "print(type(count))"
   ]
  },
  {
   "cell_type": "markdown",
   "metadata": {},
   "source": [
    "### 2. Float\n",
    "\n",
    "    A float is a number with a decimal point\n"
   ]
  },
  {
   "cell_type": "markdown",
   "metadata": {},
   "source": [
    "### 6️⃣ Functions\n",
    "\n",
    "    Defined using def:\n"
   ]
  },
  {
   "cell_type": "code",
   "execution_count": 72,
   "metadata": {},
   "outputs": [
    {
     "name": "stdout",
     "output_type": "stream",
     "text": [
      "12.0\n",
      "<class 'float'>\n"
     ]
    }
   ],
   "source": [
    "number1 = 12.0\n",
    "salary_rate = 12.45\n",
    "\n",
    "print(number1)\n",
    "print(type(number1))"
   ]
  },
  {
   "cell_type": "markdown",
   "metadata": {},
   "source": [
    "### 3. String\n",
    "\n",
    "    A string is a variable/character(s) with no numerical value. We represent strings by putting them within quotation marks (' ' or \" \")\n"
   ]
  },
  {
   "cell_type": "code",
   "execution_count": 73,
   "metadata": {},
   "outputs": [
    {
     "name": "stdout",
     "output_type": "stream",
     "text": [
      "Peter Zorve\n",
      "<class 'str'>\n"
     ]
    }
   ],
   "source": [
    "my_name = \"Peter Zorve\"\n",
    "sentence = 'I am very hungry and tired'\n",
    "\n",
    "print(my_name)\n",
    "print(type(sentence))"
   ]
  },
  {
   "cell_type": "markdown",
   "metadata": {},
   "source": [
    "### 4. Boolean\n",
    "\n",
    "    A boolean is just True or False. In Python, we use the keywords True or False\n"
   ]
  },
  {
   "cell_type": "code",
   "execution_count": 74,
   "metadata": {},
   "outputs": [
    {
     "name": "stdout",
     "output_type": "stream",
     "text": [
      "True\n",
      "<class 'bool'>\n"
     ]
    }
   ],
   "source": [
    "hungry = True\n",
    "print(hungry)\n",
    "print(type(hungry))"
   ]
  },
  {
   "cell_type": "markdown",
   "metadata": {},
   "source": [
    "### 5. List\n",
    "\n",
    "    A list is a collection of items. We represent lists by putting the items in a square parenthesis, []\n"
   ]
  },
  {
   "cell_type": "code",
   "execution_count": 75,
   "metadata": {},
   "outputs": [
    {
     "name": "stdout",
     "output_type": "stream",
     "text": [
      "[10, 12, 23, 50, 80]\n",
      "<class 'list'>\n",
      "['Peter', 'Kwame', 'name', 50.0, 18, 0.001]\n",
      "<class 'list'>\n"
     ]
    }
   ],
   "source": [
    "\n",
    "\n",
    "my_list = [10, 12, 23, 50, 80] \n",
    "my_list_2 = ['Peter', 'Kwame', 'name', 50., 18, 0.001]\n",
    "\n",
    "print(my_list)\n",
    "print(type(my_list)) \n",
    "\n",
    "print(my_list_2)\n",
    "print(type(my_list_2))\n",
    "\n"
   ]
  },
  {
   "cell_type": "markdown",
   "metadata": {},
   "source": [
    "### 6. Tuple\n",
    "\n",
    "    A tuple is like a list. We tuple is defined with a parenthesis, (). We will discuss the difference between a list and a tuple later\n"
   ]
  },
  {
   "cell_type": "code",
   "execution_count": 76,
   "metadata": {},
   "outputs": [
    {
     "name": "stdout",
     "output_type": "stream",
     "text": [
      "(10, 'Kwame', 10.082128, True, False, 'shoes')\n",
      "<class 'tuple'>\n"
     ]
    }
   ],
   "source": [
    "\n",
    "my_tuple = (10, 'Kwame', 10.082128, True, False, 'shoes')\n",
    "print(my_tuple)\n",
    "print(type(my_tuple))"
   ]
  },
  {
   "cell_type": "markdown",
   "metadata": {},
   "source": [
    "### 7. Dictionary\n",
    "\n",
    "    A dictionary comes in the form of key-value pair. Think of it as the book dictionary - Words (key), and their meaning (value). We write dictionaries with curly parenthesis, {}  \"\"\"\n"
   ]
  },
  {
   "cell_type": "code",
   "execution_count": 77,
   "metadata": {},
   "outputs": [
    {
     "name": "stdout",
     "output_type": "stream",
     "text": [
      "{'name': 'Peter Zorve', 'age': 15, 'salary': 150.2, 12: 'I am very tired'}\n",
      "<class 'dict'>\n"
     ]
    }
   ],
   "source": [
    "my_dict = {'name': 'Peter Zorve', 'age' : 15, 'salary' : 150.20, 12 : 'I am very tired'} \n",
    "print(my_dict)\n",
    "print(type(my_dict))"
   ]
  },
  {
   "cell_type": "markdown",
   "metadata": {},
   "source": [
    "### 8. Set\n",
    "\n",
    "    A set is also a collection of items. We represent a set using curly parenthesis, but the elements are not key-value pairs\n"
   ]
  },
  {
   "cell_type": "code",
   "execution_count": 78,
   "metadata": {},
   "outputs": [
    {
     "name": "stdout",
     "output_type": "stream",
     "text": [
      "{'happy', 'name', 'tired', 'hungry'}\n",
      "<class 'set'>\n"
     ]
    }
   ],
   "source": [
    "my_set = {'name', 'hungry', 'tired', 'happy', 'name', 'name'}\n",
    "print(my_set)\n",
    "print(type(my_set))"
   ]
  },
  {
   "cell_type": "markdown",
   "metadata": {},
   "source": [
    "### Arithmetic Operation\n",
    "\n",
    "    1.  Addition (+)\n",
    "    2.  Substraction (-)\n",
    "    3.  Multiplication (*)\n",
    "    4.  Division (/)\n",
    "    5.  Modulus (%)\n",
    "    6.  Exponents - Power (**)\n",
    "    7.  Floor Division (//)\n"
   ]
  },
  {
   "cell_type": "code",
   "execution_count": 79,
   "metadata": {},
   "outputs": [
    {
     "name": "stdout",
     "output_type": "stream",
     "text": [
      "Addition        ==>  50 + 3 = 53\n",
      "Substraction    ==>  50 - 3 = 47\n",
      "Multiplication  ==>  50 * 3 = 150\n",
      "Division        ==>  50 / 3 = 16.666666666666668\n",
      "Modulus         ==>  50 % 3 = 2\n",
      "Exponent        ==>  50 ** 3 = 125000\n",
      "Floor Division  ==>  50 // 3 = 16\n"
     ]
    }
   ],
   "source": [
    "number_1 = 50 \n",
    "number_2 = 3 \n",
    "\n",
    "print('Addition        ==> ', number_1, '+', number_2, '=',  number_1 + number_2)\n",
    "print('Substraction    ==> ', number_1, '-', number_2, '=',  number_1 - number_2)\n",
    "print('Multiplication  ==> ', number_1, '*', number_2, '=',  number_1 * number_2)\n",
    "print('Division        ==> ', number_1, '/', number_2, '=',  number_1 / number_2)\n",
    "print('Modulus         ==> ', number_1, '%', number_2, '=',  number_1 % number_2)\n",
    "print('Exponent        ==> ', number_1, '**', number_2, '=',  number_1 ** number_2)\n",
    "print('Floor Division  ==> ', number_1, '//', number_2, '=',  number_1 // number_2)"
   ]
  },
  {
   "cell_type": "markdown",
   "metadata": {},
   "source": [
    "### Comparison Operations\n",
    "\n",
    "    1.  Less than (<)\n",
    "    2.  Greater than (>)\n",
    "    3.  Equal to (==)\n",
    "    4.  Less than or equal to (<=)\n",
    "    5.  Greater than or less than (>=)\n",
    "    6.  Not equal to (!=)\n"
   ]
  },
  {
   "cell_type": "code",
   "execution_count": 80,
   "metadata": {},
   "outputs": [
    {
     "name": "stdout",
     "output_type": "stream",
     "text": [
      "1.  10  < 55   :  True\n",
      "2.  10  < 30   :  True\n",
      "3.  55  > 30   :  True\n",
      "4.  30  < 55   :  False\n",
      "5.  10  == 10  :  True\n",
      "6.  10  == 55  :  False\n",
      "7.  30  <= 55  :  True\n",
      "8.  30  <= 30  :  True\n",
      "9.  10  >= 55  :  False\n",
      "10. 55  >= 30  :  True\n",
      "11. 55  != 10  :  True\n",
      "12. 55  != 30  :  True\n"
     ]
    }
   ],
   "source": [
    "number_3 = 10\n",
    "number_4 = 55\n",
    "number_5 = 30 \n",
    "\n",
    "\n",
    "\n",
    "print(f'1.  {number_3}  < {number_4}   :  {number_3 < number_4}')\n",
    "print(f'2.  {number_3}  < {number_5}   :  {number_3 < number_5}')\n",
    "\n",
    "print(f'3.  {number_4}  > {number_5}   :  {number_4 > number_5}')\n",
    "print(f'4.  {number_5}  < {number_4}   :  {number_5 > number_4}')\n",
    "\n",
    "print(f'5.  {number_3}  == {number_3}  :  {number_3 == number_3}')\n",
    "print(f'6.  {number_3}  == {number_4}  :  {number_3 == number_4}')\n",
    "\n",
    "print(f'7.  {number_5}  <= {number_4}  :  {number_5 <= number_4}')\n",
    "print(f'8.  {number_5}  <= {number_5}  :  {number_5 <= number_5}')\n",
    "\n",
    "print(f'9.  {number_3}  >= {number_4}  :  {number_3 >= number_4}')\n",
    "print(f'10. {number_4}  >= {number_5}  :  {number_4 >= number_5}')\n",
    "\n",
    "print(f'11. {number_4}  != {number_3}  :  {number_4 != number_3}')\n",
    "print(f'12. {number_4}  != {number_5}  :  {number_4 != number_5}')"
   ]
  },
  {
   "cell_type": "markdown",
   "metadata": {},
   "source": [
    "### Logical Operations\n",
    "\n",
    "    True    and   True    ----->  True\n",
    "    False   and   False   ----->  True\n",
    "    True    and   False   ----->  False\n",
    "    False   and   True    ----->  False\n",
    "\n",
    "    True    or   True     ----->  False\n",
    "    False   or   False    ----->  False\n",
    "    True    or   False    ----->  True\n",
    "    False   or   True     ----->  True\n"
   ]
  },
  {
   "cell_type": "code",
   "execution_count": 81,
   "metadata": {},
   "outputs": [
    {
     "name": "stdout",
     "output_type": "stream",
     "text": [
      "1 :   True\n",
      "2 :   True\n",
      "3 :   False\n",
      "4 :   False\n",
      "5 :   False\n",
      "6 :   False\n"
     ]
    }
   ],
   "source": [
    "number_6 = 5\n",
    "number_7 = 2\n",
    "number_8 = 10\n",
    "\n",
    "\n",
    "print('1 :  ', (number_6 > number_7) and (number_6 < number_8))\n",
    "print('2 :  ', (number_6 > number_8) or (number_6 < number_8))\n",
    "print('3 :  ', not ((number_6 > number_7) and (number_6 < number_8)))\n",
    "print('4 :  ', not (number_6 > number_8 or number_6 < number_8))\n",
    "print('5 :  ', (not (number_8 > number_7)) or number_8 < number_8)\n",
    "print('6 :  ', (not (number_6 > number_7)) and (number_8 < number_8) and  (not (number_6 < number_7) )) \n",
    "\n"
   ]
  },
  {
   "cell_type": "markdown",
   "metadata": {},
   "source": [
    "### IF, ELIF, ELSE\n"
   ]
  },
  {
   "cell_type": "code",
   "execution_count": 82,
   "metadata": {},
   "outputs": [
    {
     "name": "stdout",
     "output_type": "stream",
     "text": [
      "1 less than 12\n"
     ]
    }
   ],
   "source": [
    "count = 1\n",
    "\n",
    "if count < 12:\n",
    "    print(count, 'less than 12')\n",
    "else: \n",
    "    print(count, 'greater or equal 12')\n",
    "    print(count * 10)\n",
    "    print(count)"
   ]
  },
  {
   "cell_type": "code",
   "execution_count": 83,
   "metadata": {},
   "outputs": [
    {
     "name": "stdout",
     "output_type": "stream",
     "text": [
      "10  <  15\n"
     ]
    }
   ],
   "source": [
    "\n",
    "count_1 = 10\n",
    "count_2 = 15\n",
    "\n",
    "if count_1 < count_2 and count_1 > 5:\n",
    "    print(count_1, ' < ', count_2)\n",
    "else: \n",
    "    print(count_1, ' >= ', count_2)"
   ]
  },
  {
   "cell_type": "code",
   "execution_count": 84,
   "metadata": {},
   "outputs": [
    {
     "name": "stdout",
     "output_type": "stream",
     "text": [
      "20 °C  : it is normal\n"
     ]
    }
   ],
   "source": [
    "\n",
    "temperature = 20\n",
    "\n",
    "\n",
    "if temperature < 15:\n",
    "    print(temperature, '°C  : it is very cold')\n",
    "elif temperature < 20: \n",
    "    print(temperature, '°C  : it is still cold')\n",
    "elif temperature < 30:\n",
    "    print(temperature, '°C  : it is normal')\n",
    "elif temperature < 40: \n",
    "    print(temperature, '°C  : too is normal')\n",
    "elif temperature < 50:\n",
    "    print(temperature, '°C  : it beginning to get hot')\n",
    "else:\n",
    "    print(temperature, '°C  : it is very hot')"
   ]
  },
  {
   "cell_type": "code",
   "execution_count": 85,
   "metadata": {},
   "outputs": [
    {
     "name": "stdout",
     "output_type": "stream",
     "text": [
      "10 is equal to or less than 10\n"
     ]
    }
   ],
   "source": [
    "number_1 = 10\n",
    "number_2 = 15\n",
    "\n",
    "\n",
    "if number_1 > 10:\n",
    "    print(number_1, 'is greater than 10')\n",
    "else: \n",
    "    print(number_1, 'is equal to or less than 10')"
   ]
  },
  {
   "cell_type": "code",
   "execution_count": 86,
   "metadata": {},
   "outputs": [
    {
     "name": "stdout",
     "output_type": "stream",
     "text": [
      "1 is more than 0\n"
     ]
    }
   ],
   "source": [
    "number_2 = 1\n",
    "\n",
    "\n",
    "if number_2 > 5:\n",
    "    print(number_2, 'is more than 5')\n",
    "elif number_2 > 3:\n",
    "    print(number_2, 'is nore than 3')\n",
    "elif number_2 > 0:\n",
    "    print(number_2, 'is more than 0')\n",
    "else: \n",
    "    print(number_2, 'is less than or equal to 0') "
   ]
  },
  {
   "cell_type": "markdown",
   "metadata": {},
   "source": [
    "### for loop\n"
   ]
  },
  {
   "cell_type": "code",
   "execution_count": 87,
   "metadata": {},
   "outputs": [
    {
     "name": "stdout",
     "output_type": "stream",
     "text": [
      "P\n",
      "e\n",
      "t\n",
      "e\n",
      "r\n",
      "\n",
      "12\n",
      "78\n",
      "\n",
      "sugars starts and ends with s\n"
     ]
    }
   ],
   "source": [
    "\n",
    "name = 'Peter'\n",
    "\n",
    "for i in name: \n",
    "    print(i)\n",
    "\n",
    "my_list = ['milk', 'sugars', 'salt', 'books', 'cake', '12', '15.1', '78']\n",
    "\n",
    "print()\n",
    "for item in my_list:\n",
    "    if item.isdigit():\n",
    "        print(item)\n",
    "\n",
    "print()\n",
    "for item in my_list:\n",
    "    if item.endswith('s') and item.startswith('s'):\n",
    "        print(item, 'starts and ends with s')"
   ]
  },
  {
   "cell_type": "code",
   "execution_count": 88,
   "metadata": {},
   "outputs": [
    {
     "name": "stdout",
     "output_type": "stream",
     "text": [
      "320 450 2 30 12 \n"
     ]
    }
   ],
   "source": [
    "sammy = 'Sammy  is a hard 320 working guy who earns GHC 450 every 2 weeks. He gives GHC 30 to his friend who has 12 children'\n",
    "\n",
    "tommy = sammy.split()\n",
    "tommy_is_empty = ''\n",
    "\n",
    "for item in tommy:\n",
    "    if item.isdigit():\n",
    "        tommy_is_empty = tommy_is_empty + item + ' '\n",
    "\n",
    "print(tommy_is_empty)\n",
    "\n",
    "\n"
   ]
  },
  {
   "cell_type": "code",
   "execution_count": 89,
   "metadata": {},
   "outputs": [
    {
     "name": "stdout",
     "output_type": "stream",
     "text": [
      "320 450 2 30 12\n"
     ]
    }
   ],
   "source": [
    "sammy = 'Sammy  is a hard 320 working guy who earns GHC 450 every 2 weeks. He gives GHC 30 to his friend who has 12 children'\n",
    "sammy_2 = ''\n",
    "for number in sammy:\n",
    "    if number.isdigit() or number == ' ':\n",
    "        sammy_2 = sammy_2 + number\n",
    "\n",
    "sammy_2 = sammy_2.strip()\n",
    "sammy_2 = sammy_2.replace('  ', ' ')\n",
    "sammy_2 = sammy_2.replace('  ', ' ')\n",
    "sammy_2 = sammy_2.replace('  ', ' ')\n",
    "print(sammy_2)"
   ]
  },
  {
   "cell_type": "markdown",
   "metadata": {},
   "source": [
    "### While loop\n"
   ]
  },
  {
   "cell_type": "code",
   "execution_count": 90,
   "metadata": {},
   "outputs": [
    {
     "name": "stdout",
     "output_type": "stream",
     "text": [
      "5\n",
      "10\n",
      "15\n",
      "20\n",
      "25\n",
      "DDDDDDDDDDDD\n",
      "oooooooooooo\n",
      "nnnnnnnnnnnn\n",
      "''''''''''''\n",
      "\n",
      "o\n",
      "nn\n",
      "'''\n",
      "tttt\n",
      "     \n",
      "kkkkkk\n",
      "iiiiiii\n",
      "llllllll\n",
      "lllllllll\n",
      "          \n",
      "ttttttttttt\n",
      "hhhhhhhhhhhh\n",
      "eeeeeeeeeeeee\n",
      "              \n",
      "fffffffffffffff\n",
      "oooooooooooooooo\n",
      "xxxxxxxxxxxxxxxxx\n"
     ]
    }
   ],
   "source": [
    "count = 5 \n",
    "\n",
    "while count < 30:\n",
    "    print(count)\n",
    "    count = count + 5\n",
    "\n",
    "\n",
    "sentence = \"Don't kill the fox\"\n",
    "count = len(sentence)\n",
    "\n",
    "\n",
    "for stone in sentence[:4]: \n",
    "    print(stone * 12)\n",
    "\n",
    "start = 0 \n",
    "while start < count: \n",
    "    print(sentence[start] * start)\n",
    "    start = start + 1\n"
   ]
  },
  {
   "cell_type": "code",
   "execution_count": null,
   "metadata": {},
   "outputs": [],
   "source": []
  },
  {
   "cell_type": "markdown",
   "metadata": {},
   "source": [
    "### Functions\n"
   ]
  },
  {
   "cell_type": "code",
   "execution_count": 91,
   "metadata": {},
   "outputs": [
    {
     "name": "stdout",
     "output_type": "stream",
     "text": [
      "10 + 20 = 30\n"
     ]
    }
   ],
   "source": [
    "\n",
    "number1 = 10\n",
    "number2 = 20 \n",
    "\n",
    "add = 10\n",
    "summation = number1 + number2 \n",
    "\n",
    "print(number1, '+', number2,  '=', summation)\n"
   ]
  },
  {
   "cell_type": "code",
   "execution_count": 92,
   "metadata": {},
   "outputs": [
    {
     "name": "stdout",
     "output_type": "stream",
     "text": [
      "Hello Peter Zorve!\n"
     ]
    }
   ],
   "source": [
    "def greet(name):\n",
    "    print(\"Hello \" + name + \"!\")\n",
    "\n",
    "greet(\"Peter Zorve\")"
   ]
  },
  {
   "cell_type": "code",
   "execution_count": 93,
   "metadata": {},
   "outputs": [
    {
     "name": "stdout",
     "output_type": "stream",
     "text": [
      "30 + 40 = 70\n",
      "10 + 20 = 30\n",
      "80 + 60 = 140\n",
      "100 + 80 = 180\n"
     ]
    }
   ],
   "source": [
    "def samuel_boateng(num1=0, num2=0):\n",
    "    result = num1 + num2 \n",
    "    print(num1, '+', num2,  '=', result)\n",
    "    return \n",
    "\n",
    "samuel_boateng(30, 40)\n",
    "samuel_boateng(10, 20)\n",
    "samuel_boateng(80, 60)\n",
    "samuel_boateng(100, 80)"
   ]
  },
  {
   "cell_type": "code",
   "execution_count": 94,
   "metadata": {},
   "outputs": [
    {
     "name": "stdout",
     "output_type": "stream",
     "text": [
      "*  *  *  *  *  *  *  *  *  *  *  *  *  *  *         \n",
      "*                                           * \n",
      "*                                           * \n",
      "*                                           * \n",
      "*                                           * \n",
      "*                                           * \n",
      "*                                           * \n",
      "*                                           * \n",
      "*                                           * \n",
      "*                                           * \n",
      "*                                           * \n",
      "*                                           * \n",
      "*                                           * \n",
      "*                                           * \n",
      "*                                           * \n",
      "*  *  *  *  *  *  *  *  *  *  *  *  *  *  *         \n",
      "                15 cm\n"
     ]
    }
   ],
   "source": [
    "# Question 1. Write a function that accepts a number and print a square based on that number \n",
    "# For example, with a function named square \n",
    "# square(number, unit='cm')\n",
    "\n",
    "def square(number, unit):\n",
    "    for num in range(number):\n",
    "        if num == 0:\n",
    "            print('*  ' * number, '      ')\n",
    "        \n",
    "        elif num < number: \n",
    "            print('*  ', '   ' * (number - 2), '* ')\n",
    "\n",
    "        if num == (number-1):\n",
    "            print('*  ' * number, '      ')\n",
    "    \n",
    "    print('   ' * int(number/3) , number, unit)\n",
    "    return \n",
    "\n",
    "square(15, 'cm')"
   ]
  },
  {
   "cell_type": "code",
   "execution_count": 95,
   "metadata": {},
   "outputs": [
    {
     "data": {
      "text/plain": [
       "'?yadot gniog uoy era erehw'"
      ]
     },
     "execution_count": 95,
     "metadata": {},
     "output_type": "execute_result"
    }
   ],
   "source": [
    "def backtosender(ewiase):\n",
    "\n",
    "    length = len(ewiase)  \n",
    "    reverse = ''\n",
    "\n",
    "    for number in range(length):\n",
    "        character = ewiase[length - (number + 1 )]  \n",
    "        reverse = reverse + character\n",
    "\n",
    "    return reverse\n",
    "\n",
    "backtosender('where are you going today?')"
   ]
  },
  {
   "cell_type": "code",
   "execution_count": 96,
   "metadata": {},
   "outputs": [
    {
     "name": "stdout",
     "output_type": "stream",
     "text": [
      "peter zorve25\n",
      "lara funke125\n",
      "faith edem\n",
      "kenny edem12\n",
      "kojo sammy235\n",
      "ama lara16\n",
      "adeyele kumi999999\n",
      "bismark asamoah\n",
      "john mireku\n",
      "youth agam\n",
      "entry james\n",
      "kofi antwi\n",
      "peter.zorve@gmail.com\n",
      "lara.funke@gmail.com\n",
      "faith.edem@yahoo.com\n",
      "kenny.edem@yahoo.com\n",
      "kojo.sammy@gmail.com\n",
      "ama.lara@yahoo.com\n",
      "adeyele.kumi@yahoo.com\n",
      "bismark.asamoah@yahoo.com\n",
      "john.mireku@uef.fi\n",
      "youth.agam@uef.fi\n",
      "entry.james@uef.fi\n",
      "kofi.antwi@uef.fi\n"
     ]
    }
   ],
   "source": [
    "\"\"\"\n",
    "Question 3. Write a function to extract the first name, second name and date of birth from the data below. \n",
    "\n",
    "my_dictionary = {   'emails'    :  ['peter.zorve25@gmail.com', 'lara.funke125@gmail.com', 'faith.edem@yahoo.com', 'kenny.edem12@yahoo.com', 'kojo.sammy235@gmail.com', 'ama.lara16@yahoo.com', 'adeyele.kumi999999@yahoo.com', 'bismark.asamoah@yahoo.com', 'john.mireku@uef.fi', 'youth.agam@uef.fi', 'entry.james@uef.fi', 'kofi.antwi@uef.fi'], \n",
    "                    'id_number' :  ['27021990-THN', '28021990-IHE', '28121990-THE', '28021990-OHE', '28121990-JKE', '28061990-RHE', '27021980-POE', '28121990-ABC', '28021890-FGE', '28021990-LZE', '28021990-NAE', '28021990-THE' ]}\n",
    "\n",
    "\n",
    "OUTPUT \n",
    "\n",
    "Peter Zorve       -  27.02.1990\n",
    "Lara Funke        -  28.02.1990\n",
    "Faith Edem        -  28.12.1990\n",
    "Kenny Edem        -  28.02.1990\n",
    "Kojo Sammy        -  28.12.1990\n",
    "Ama Lara          -  28.06.1990\n",
    "Adeyele Kumi      -  27.02.1980\n",
    "Bismark Asamoah   -  28.12.1990\n",
    "John Mireku       -  28.02.1890\n",
    "Youth Agam        -  28.02.1990\n",
    "Entry James       -  28.02.1990\n",
    "Kofi Antwi        -  28.02.1990\n",
    "\n",
    "\"\"\"\n",
    "\n",
    "david = {   'emails'    :  ['peter.zorve25@gmail.com', 'lara.funke125@gmail.com', 'faith.edem@yahoo.com', 'kenny.edem12@yahoo.com', 'kojo.sammy235@gmail.com', 'ama.lara16@yahoo.com', 'adeyele.kumi999999@yahoo.com', 'bismark.asamoah@yahoo.com', 'john.mireku@uef.fi', 'youth.agam@uef.fi', 'entry.james@uef.fi', 'kofi.antwi@uef.fi'], \n",
    "            'id_number' :  ['27021990-THN', '28021990-IHE', '28121990-THE', '28021990-OHE', '28121990-JKE', '28061990-RHE', '27021980-POE', '28121990-ABC', '28021890-FGE', '28021990-LZE', '28021990-NAE', '28021990-THE' ]}\n",
    "\n",
    "\n",
    "all_emails = david['emails']\n",
    "\n",
    "\n",
    "for asamoah in all_emails:\n",
    "    philip = asamoah.split('.')\n",
    "    khoby = philip[0]\n",
    "    peter = philip[1].split('@')\n",
    "    daniel = peter[0]\n",
    "\n",
    "    print(khoby, daniel)\n",
    "\n",
    "\n",
    "for item in david['emails']:\n",
    "    name = ''\n",
    "    for character in item: \n",
    "        #  \n",
    "        if not character.isdigit(): \n",
    "            name = name + character\n",
    "            # break \n",
    "    print(name)\n",
    "\n",
    "\n"
   ]
  },
  {
   "cell_type": "code",
   "execution_count": 97,
   "metadata": {},
   "outputs": [],
   "source": [
    "david = {   'emails'    :  ['peter.zorve25@gmail.com', 'lara.funke125@gmail.com', 'faith.edem@yahoo.com', 'kenny.edem12@yahoo.com', 'kojo.sammy235@gmail.com', 'ama.lara16@yahoo.com', 'adeyele.kumi999999@yahoo.com', 'bismark.asamoah@yahoo.com', 'john.mireku@uef.fi', 'youth.agam@uef.fi', 'entry.james@uef.fi', 'kofi.antwi@uef.fi'], \n",
    "            'id_number' :  ['27021990-THN', '28021990-IHE', '28121990-THE', '28021990-OHE', '28121990-JKE', '28061990-RHE', '27021980-POE', '28121990-ABC', '28021890-FGE', '28021990-LZE', '28021990-NAE', '28021990-THE' ]}\n",
    "\n",
    "def extract(david):\n",
    "\n",
    "    first_last_name = []\n",
    "    date_of_birth = []\n",
    "\n",
    "    for item in david['emails']:\n",
    "        name = item.split('@')[0]\n",
    "\n",
    "        full_name = ''\n",
    "        for i in name: \n",
    "            if not i.isdigit():\n",
    "                full_name = full_name + i \n",
    "        \n",
    "        full_name = full_name.replace('.', ' ').title()\n",
    "\n",
    "        first_last_name.append(full_name)\n",
    "\n",
    "    for item in david['id_number']:\n",
    "        id = item[:2]+ '-' + item[2:4] + '-' + item[4:8]\n",
    "        date_of_birth.append(id)\n",
    "\n",
    "    for item in range(len(first_last_name)):\n",
    "        print(f\"{first_last_name[item]:15}  -  {date_of_birth[item]}\")\n",
    "    \n",
    "    return \n",
    "\n",
    "\n",
    "\n",
    "\n"
   ]
  },
  {
   "cell_type": "code",
   "execution_count": null,
   "metadata": {},
   "outputs": [],
   "source": []
  },
  {
   "cell_type": "code",
   "execution_count": null,
   "metadata": {},
   "outputs": [],
   "source": []
  },
  {
   "cell_type": "markdown",
   "metadata": {},
   "source": [
    "### 8️⃣ Importing modules\n",
    "\n",
    "Python uses import to bring in modules:\n"
   ]
  },
  {
   "cell_type": "code",
   "execution_count": 98,
   "metadata": {},
   "outputs": [
    {
     "name": "stdout",
     "output_type": "stream",
     "text": [
      "4.0\n"
     ]
    }
   ],
   "source": [
    "import math\n",
    "print(math.sqrt(16))"
   ]
  },
  {
   "cell_type": "markdown",
   "metadata": {},
   "source": [
    "<h4 style=\"background-color: orange; color: white; font-family: Consolas, sans-serif; border-radius: 3px; padding: 3px; padding-left: 10px; padding-top: 10px; padding-bottom: 10px \">\n",
    "    Chapter 2: Advanced Concepts\n",
    "</h4>\n"
   ]
  },
  {
   "cell_type": "markdown",
   "metadata": {},
   "source": [
    "<h4 style=\"background-color: black; color: orange; font-family: Consolas, sans-serif; border-radius: 3px; padding: 3px; padding-left: 10px;\">\n",
    "    2.1. List comprehensions\n",
    "</h4>\n"
   ]
  },
  {
   "cell_type": "markdown",
   "metadata": {},
   "source": [
    "### List Comprehensions\n",
    "\n",
    "    A list comprehension is a compact way to create lists in Python.\n",
    "\n",
    "    It combines loops and conditional statements into a single line.\n",
    "\n",
    "    More readable and often faster than traditional loops.\n"
   ]
  },
  {
   "cell_type": "markdown",
   "metadata": {},
   "source": [
    "    new_list = [expression for item in iterable if condition]\n"
   ]
  },
  {
   "cell_type": "markdown",
   "metadata": {},
   "source": [
    "### 2. Basic Examples\n",
    "\n",
    "    Example 1: Squares of Numbers\n",
    "\n",
    "    Traditional Approach:\n"
   ]
  },
  {
   "cell_type": "code",
   "execution_count": 99,
   "metadata": {},
   "outputs": [
    {
     "name": "stdout",
     "output_type": "stream",
     "text": [
      "[1, 4, 9, 16, 25]\n"
     ]
    }
   ],
   "source": [
    "squares = []\n",
    "for num in range(1, 6):\n",
    "    squares.append(num ** 2)\n",
    "print(squares)  # Output: [1, 4, 9, 16, 25]"
   ]
  },
  {
   "cell_type": "markdown",
   "metadata": {},
   "source": [
    "    Using List Comprehension:\n"
   ]
  },
  {
   "cell_type": "code",
   "execution_count": 100,
   "metadata": {},
   "outputs": [
    {
     "name": "stdout",
     "output_type": "stream",
     "text": [
      "[1, 4, 9, 16, 25]\n"
     ]
    }
   ],
   "source": [
    "squares = [num ** 2 for num in range(1, 6)]\n",
    "print(squares)  # Output: [1, 4, 9, 16, 25]"
   ]
  },
  {
   "cell_type": "markdown",
   "metadata": {},
   "source": [
    "    Example 2: Uppercase Letters\n"
   ]
  },
  {
   "cell_type": "code",
   "execution_count": 101,
   "metadata": {},
   "outputs": [
    {
     "name": "stdout",
     "output_type": "stream",
     "text": [
      "['HELLO', 'WORLD', 'PYTHON']\n"
     ]
    }
   ],
   "source": [
    "words = [\"hello\", \"world\", \"python\"]\n",
    "upper_words = [word.upper() for word in words]\n",
    "print(upper_words)  # Output: ['HELLO', 'WORLD', 'PYTHON']"
   ]
  },
  {
   "cell_type": "markdown",
   "metadata": {},
   "source": [
    "### 3. List Comprehension with Conditions\n",
    "\n",
    "    Example 3: Even Numbers\n"
   ]
  },
  {
   "cell_type": "code",
   "execution_count": 102,
   "metadata": {},
   "outputs": [
    {
     "name": "stdout",
     "output_type": "stream",
     "text": [
      "[2, 4, 6]\n"
     ]
    }
   ],
   "source": [
    "numbers = [1, 2, 3, 4, 5, 6]\n",
    "evens = [num for num in numbers if num % 2 == 0]\n",
    "print(evens)  # Output: [2, 4, 6]"
   ]
  },
  {
   "cell_type": "markdown",
   "metadata": {},
   "source": [
    "    Example 4: Filter Strings by Length\n"
   ]
  },
  {
   "cell_type": "code",
   "execution_count": 103,
   "metadata": {},
   "outputs": [
    {
     "name": "stdout",
     "output_type": "stream",
     "text": [
      "['kiwi', 'pear']\n"
     ]
    }
   ],
   "source": [
    "words = [\"apple\", \"banana\", \"kiwi\", \"pear\"]\n",
    "short_words = [word for word in words if len(word) <= 4]\n",
    "print(short_words)  # Output: ['kiwi', 'pear']"
   ]
  },
  {
   "cell_type": "markdown",
   "metadata": {},
   "source": [
    "### 4. Nested List Comprehensions\n",
    "\n",
    "    Example 5: Flattening a 2D List\n"
   ]
  },
  {
   "cell_type": "code",
   "execution_count": 104,
   "metadata": {},
   "outputs": [
    {
     "name": "stdout",
     "output_type": "stream",
     "text": [
      "[1, 2, 3, 4, 5, 6, 7, 8, 9]\n"
     ]
    }
   ],
   "source": [
    "matrix = [[1, 2, 3], [4, 5, 6], [7, 8, 9]]\n",
    "flattened = [num for row in matrix for num in row]\n",
    "print(flattened)  # Output: [1, 2, 3, 4, 5, 6, 7, 8, 9]"
   ]
  },
  {
   "cell_type": "markdown",
   "metadata": {},
   "source": [
    "    Example 6: Matrix Transpose\n"
   ]
  },
  {
   "cell_type": "code",
   "execution_count": 105,
   "metadata": {},
   "outputs": [
    {
     "name": "stdout",
     "output_type": "stream",
     "text": [
      "[[1, 4, 7], [2, 5, 8], [3, 6, 9]]\n"
     ]
    }
   ],
   "source": [
    "matrix = [[1, 2, 3], [4, 5, 6], [7, 8, 9]]\n",
    "transpose = [[row[i] for row in matrix] for i in range(3)]\n",
    "print(transpose)  # Output: [[1, 4, 7], [2, 5, 8], [3, 6, 9]]"
   ]
  },
  {
   "cell_type": "code",
   "execution_count": null,
   "metadata": {},
   "outputs": [],
   "source": []
  },
  {
   "cell_type": "markdown",
   "metadata": {},
   "source": [
    "<h4 style=\"background-color: black; color: orange; font-family: Consolas, sans-serif; border-radius: 3px; padding: 3px; padding-left: 10px;\">\n",
    "    2.2. Generators in Python\n",
    "</h4>\n"
   ]
  },
  {
   "cell_type": "markdown",
   "metadata": {},
   "source": [
    "### Generators are a special type of function that return an iterator object which can be iterated over one value at a time.\n",
    "\n",
    "    Key Feature: Generators don't store all values in memory at once - they generate values on the fly (lazy evaluation).\n",
    "\n",
    "    Memory Efficiency: Much more memory efficient than lists for large datasets.\n",
    "\n",
    "### Creating Generators - Using yield keyword\n",
    "\n",
    "    The yield statement pauses function execution and sends a value back to the caller\n",
    "\n",
    "    The function's state is saved between calls\n"
   ]
  },
  {
   "cell_type": "code",
   "execution_count": 119,
   "metadata": {},
   "outputs": [
    {
     "name": "stdout",
     "output_type": "stream",
     "text": [
      "1\n",
      "2\n",
      "3\n"
     ]
    }
   ],
   "source": [
    "def simple_generator():\n",
    "    yield 1\n",
    "    yield 2\n",
    "    yield 3\n",
    "\n",
    "# Using the generator\n",
    "gen = simple_generator()\n",
    "print(next(gen))  # Output: 1\n",
    "print(next(gen))  # Output: 2\n",
    "print(next(gen))  # Output: 3"
   ]
  },
  {
   "cell_type": "markdown",
   "metadata": {},
   "source": [
    "### Generator Expression (similar to list comprehension)\n"
   ]
  },
  {
   "cell_type": "code",
   "execution_count": null,
   "metadata": {},
   "outputs": [
    {
     "name": "stdout",
     "output_type": "stream",
     "text": [
      "0\n",
      "1\n",
      "4\n",
      "9\n"
     ]
    }
   ],
   "source": [
    "gen_exp = (x**2 for x in range(10))\n",
    "print(next(gen_exp))  # Output: 0\n",
    "print(next(gen_exp))  # Output: 1\n",
    "print(next(gen_exp))  # Output: 4\n",
    "print(next(gen_exp))  # Output: 9\n"
   ]
  },
  {
   "cell_type": "markdown",
   "metadata": {},
   "source": [
    "### 3. Key Characteristics\n",
    "\n",
    "    Stateful: Remember their state between calls\n",
    "\n",
    "    Single-use: Once exhausted, cannot be reused (must create new generator)\n",
    "\n",
    "    Lazy evaluation: Values are generated only when requested\n",
    "\n",
    "### 4. Practical Example: Fibonacci Sequence\n"
   ]
  },
  {
   "cell_type": "code",
   "execution_count": 124,
   "metadata": {},
   "outputs": [
    {
     "name": "stdout",
     "output_type": "stream",
     "text": [
      "0 1 1 2 3 5 8 13 21 34 55 89 "
     ]
    }
   ],
   "source": [
    "def fibonacci(limit):\n",
    "    a, b = 0, 1\n",
    "    while a < limit:\n",
    "        yield a\n",
    "        a, b = b, a + b\n",
    "\n",
    "# Using the generator\n",
    "fib_gen = fibonacci(100)\n",
    "for num in fib_gen:\n",
    "    print(num, end=' ')"
   ]
  },
  {
   "cell_type": "markdown",
   "metadata": {},
   "source": [
    "### 5. Advantages of Generators\n",
    "\n",
    "    Memory efficiency: Don't store entire sequence in memory\n",
    "\n",
    "    Represent infinite sequences: Can generate values indefinitely\n",
    "\n",
    "    Cleaner code: Often more readable than iterator classes\n",
    "\n",
    "    Pipeline processing: Can chain generators together\n",
    "\n",
    "### 6. Common Use Cases\n",
    "\n",
    "    Processing large files line by line\n",
    "\n",
    "    Generating sequences where only current item is needed\n",
    "\n",
    "    Implementing custom iterators more cleanly\n",
    "\n",
    "    Data processing pipelines\n"
   ]
  },
  {
   "cell_type": "markdown",
   "metadata": {},
   "source": [
    "### Create a generator function countdown(n) that counts down from n to 0.\n"
   ]
  },
  {
   "cell_type": "code",
   "execution_count": 125,
   "metadata": {},
   "outputs": [
    {
     "name": "stdout",
     "output_type": "stream",
     "text": [
      "15\n",
      "14\n",
      "13\n",
      "12\n",
      "11\n",
      "10\n",
      "9\n",
      "8\n",
      "7\n",
      "6\n",
      "5\n",
      "4\n",
      "3\n",
      "2\n",
      "1\n",
      "0\n"
     ]
    }
   ],
   "source": [
    "# Solution\n",
    "def countdown(n):\n",
    "    while n >= 0:\n",
    "        yield n\n",
    "        n -= 1\n",
    "\n",
    "for num in countdown(15):\n",
    "    print(num)\n",
    "# Output: 5 4 3 2 1 0"
   ]
  },
  {
   "cell_type": "markdown",
   "metadata": {},
   "source": [
    "### 8. Important Notes\n",
    "\n",
    "    Generators raise StopIteration when done\n",
    "\n",
    "    Can use return to end generation (optionally with a value in Python 3.3+)\n",
    "\n",
    "    Generator functions can have multiple yield statements\n",
    "\n",
    "    Generators maintain local variables between calls\n"
   ]
  },
  {
   "cell_type": "code",
   "execution_count": null,
   "metadata": {},
   "outputs": [],
   "source": []
  },
  {
   "cell_type": "code",
   "execution_count": null,
   "metadata": {},
   "outputs": [],
   "source": []
  },
  {
   "cell_type": "code",
   "execution_count": null,
   "metadata": {},
   "outputs": [],
   "source": []
  },
  {
   "cell_type": "markdown",
   "metadata": {},
   "source": [
    "<h4 style=\"background-color: black; color: orange; font-family: Consolas, sans-serif; border-radius: 3px; padding: 3px; padding-left: 10px;\">\n",
    "    2.3. Expressions\n",
    "</h4>\n"
   ]
  },
  {
   "cell_type": "markdown",
   "metadata": {},
   "source": [
    "<h4 style=\"background-color: black; color: orange; font-family: Consolas, sans-serif; border-radius: 3px; padding: 3px; padding-left: 10px;\">\n",
    "    2.4. Closures\n",
    "</h4>\n"
   ]
  },
  {
   "cell_type": "markdown",
   "metadata": {},
   "source": [
    "### A closure is a function object that remembers values in enclosing scopes even if they are not present in memory.\n",
    "\n",
    "    Key characteristics:\n",
    "\n",
    "    A closure is a nested function\n",
    "\n",
    "    The nested function must refer to a value in its enclosing scope\n",
    "\n",
    "    The enclosing function must return the nested function\n",
    "\n",
    "### 2. How Closures Work\n"
   ]
  },
  {
   "cell_type": "code",
   "execution_count": 126,
   "metadata": {},
   "outputs": [],
   "source": [
    "def outer_function(msg):\n",
    "    # This is the enclosing scope\n",
    "    message = msg\n",
    "    \n",
    "    def inner_function():\n",
    "        # This is the nested function that forms the closure\n",
    "        print(message)\n",
    "    \n",
    "    return inner_function  # Returns the inner function without executing it"
   ]
  },
  {
   "cell_type": "markdown",
   "metadata": {},
   "source": [
    "### Important points:\n",
    "\n",
    "    The inner function has access to variables in the local scope where it was created\n",
    "\n",
    "    The variables are \"remembered\" even when the outer function has finished executing\n",
    "\n",
    "### 3. Example: Simple Closure\n"
   ]
  },
  {
   "cell_type": "code",
   "execution_count": 127,
   "metadata": {},
   "outputs": [
    {
     "name": "stdout",
     "output_type": "stream",
     "text": [
      "Hello, John!\n",
      "Hello, Jane!\n"
     ]
    }
   ],
   "source": [
    "def greet(name):\n",
    "    # name is a variable in the enclosing scope\n",
    "    \n",
    "    def say_hello():\n",
    "        # This inner function has access to 'name'\n",
    "        print(f\"Hello, {name}!\")\n",
    "    \n",
    "    return say_hello  # Return the function object, don't call it\n",
    "\n",
    "# Create closure instances\n",
    "greet_john = greet(\"John\")\n",
    "greet_jane = greet(\"Jane\")\n",
    "\n",
    "# Call the closures\n",
    "greet_john()  # Output: Hello, John!\n",
    "greet_jane()  # Output: Hello, Jane!"
   ]
  },
  {
   "cell_type": "markdown",
   "metadata": {},
   "source": [
    "### 4. Example: Closure with Parameter\n"
   ]
  },
  {
   "cell_type": "code",
   "execution_count": 128,
   "metadata": {},
   "outputs": [
    {
     "name": "stdout",
     "output_type": "stream",
     "text": [
      "16\n",
      "64\n"
     ]
    }
   ],
   "source": [
    "def power_of(exponent):\n",
    "    def power(base):\n",
    "        return base ** exponent\n",
    "    return power\n",
    "\n",
    "# Create closures\n",
    "square = power_of(2)\n",
    "cube = power_of(3)\n",
    "\n",
    "print(square(4))  # Output: 16 (4^2)\n",
    "print(cube(4))    # Output: 64 (4^3)"
   ]
  },
  {
   "cell_type": "markdown",
   "metadata": {},
   "source": [
    "5. Practical Applications\n",
    "   Use Case 1: Decorators\n",
    "\n",
    "Closures are fundamental to Python decorators\n",
    "Use Case 2: Callback functions\n",
    "\n",
    "Closures are useful for event handlers and callback functions\n",
    "Use Case 3: Function factories\n",
    "\n",
    "Create specialized functions from more general ones 6. Exercise\n",
    "\n",
    "Create a closure that generates functions to multiply by a specific number:\n"
   ]
  },
  {
   "cell_type": "code",
   "execution_count": 130,
   "metadata": {},
   "outputs": [],
   "source": [
    "def multiplier_factory(n):\n",
    "    # Your code here\n",
    "    pass\n",
    "\n",
    "# Test cases\n",
    "times_two = multiplier_factory(2)\n",
    "times_three = multiplier_factory(3)\n",
    "\n",
    "# print(times_two(5))  # Should output 10\n",
    "# print(times_three(5))  # Should output 15"
   ]
  },
  {
   "cell_type": "code",
   "execution_count": 133,
   "metadata": {},
   "outputs": [
    {
     "name": "stdout",
     "output_type": "stream",
     "text": [
      "10\n",
      "15\n"
     ]
    }
   ],
   "source": [
    "def multiplier_factory(n):\n",
    "    def multiplier(x):\n",
    "        return x * n\n",
    "    return multiplier\n",
    "\n",
    "# Test cases\n",
    "times_two = multiplier_factory(2)\n",
    "times_three = multiplier_factory(3)\n",
    "\n",
    "print(times_two(5))  # Should output 10\n",
    "print(times_three(5))  # Should output 15"
   ]
  },
  {
   "cell_type": "code",
   "execution_count": null,
   "metadata": {},
   "outputs": [],
   "source": []
  },
  {
   "cell_type": "markdown",
   "metadata": {},
   "source": [
    "<h4 style=\"background-color: black; color: orange; font-family: Consolas, sans-serif; border-radius: 3px; padding: 3px; padding-left: 10px;\">\n",
    "    2.5. Regex \n",
    "</h4>\n"
   ]
  },
  {
   "cell_type": "markdown",
   "metadata": {},
   "source": [
    "1. Introduction to Regular Expressions\n",
    "\n",
    "   Definition: Regex is a sequence of characters that forms a search pattern\n",
    "\n",
    "   Uses: Text processing, pattern matching, validation, data extraction\n",
    "\n",
    "   Python Module: re (built-in module)\n",
    "\n",
    "2. Basic Regex Syntax\n",
    "\n",
    "   Literal characters: Match themselves (a matches \"a\")\n",
    "\n",
    "   Special characters: . ^ $ \\* + ? { } [ ] \\ | ( )\n",
    "\n",
    "   Character classes: [abc] (matches a, b, or c)\n",
    "\n",
    "   Ranges: [a-z], [0-9]\n",
    "\n",
    "   Negation: [^abc] (matches anything except a, b, or c)\n",
    "\n",
    "3. Common Metacharacters\n",
    "\n",
    "   . - Matches any character except newline\n",
    "\n",
    "   \\d - Digit (0-9)\n",
    "\n",
    "   \\D - Not a digit\n",
    "\n",
    "   \\w - Word character (a-z, A-Z, 0-9, \\_)\n",
    "\n",
    "   \\W - Not a word character\n",
    "\n",
    "   \\s - Whitespace (space, tab, newline)\n",
    "\n",
    "   \\S - Not whitespace\n",
    "\n",
    "   \\b - Word boundary\n",
    "\n",
    "   \\B - Not a word boundary\n",
    "\n",
    "4. Quantifiers\n",
    "\n",
    "   - - 0 or more\n",
    "\n",
    "   * - 1 or more\n",
    "\n",
    "   ? - 0 or 1\n",
    "\n",
    "   {n} - Exactly n times\n",
    "\n",
    "   {n,} - n or more times\n",
    "\n",
    "   {n,m} - Between n and m times\n",
    "\n",
    "5. Anchors\n",
    "\n",
    "   ^ - Start of string\n",
    "\n",
    "   $ - End of string\n",
    "\n",
    "6. Python's re Module Functions\n",
    "\n",
    "   re.search() - Search for pattern anywhere in string\n",
    "\n",
    "   re.match() - Match pattern at beginning of string\n",
    "\n",
    "   re.findall() - Find all matches\n",
    "\n",
    "   re.finditer() - Returns iterator of match objects\n",
    "\n",
    "   re.sub() - Substitute matches with replacement\n",
    "\n",
    "   re.compile() - Compile pattern for reuse\n",
    "\n",
    "7. Examples\n",
    "   Basic Matching\n"
   ]
  },
  {
   "cell_type": "code",
   "execution_count": 134,
   "metadata": {},
   "outputs": [
    {
     "name": "stdout",
     "output_type": "stream",
     "text": [
      "Found: fox\n",
      "Starts with 'The'\n"
     ]
    }
   ],
   "source": [
    "import re\n",
    "\n",
    "text = \"The quick brown fox jumps over the lazy dog\"\n",
    "\n",
    "# Search for pattern\n",
    "match = re.search(r'fox', text)\n",
    "if match:\n",
    "    print(\"Found:\", match.group())  # Found: fox\n",
    "\n",
    "# Match at beginning\n",
    "match = re.match(r'The', text)\n",
    "if match:\n",
    "    print(\"Starts with 'The'\")  # Starts with 'The'"
   ]
  },
  {
   "cell_type": "markdown",
   "metadata": {},
   "source": [
    "Character Classes\n"
   ]
  },
  {
   "cell_type": "code",
   "execution_count": 137,
   "metadata": {},
   "outputs": [
    {
     "name": "stdout",
     "output_type": "stream",
     "text": [
      "['e', 'u', 'i', 'o', 'o', 'u', 'o', 'e', 'e', 'a', 'o']\n",
      "['quick']\n"
     ]
    }
   ],
   "source": [
    "# Find all vowels\n",
    "vowels = re.findall(r'[aeiou]', text, re.IGNORECASE)\n",
    "print(vowels)  # ['e', 'u', 'i', 'o', 'o', 'u', 'o', 'e', 'e', 'a', 'o']\n",
    "\n",
    "# Find words starting with q or Q\n",
    "words = re.findall(r'\\b[qQ]\\w+', text)\n",
    "print(words)  "
   ]
  },
  {
   "cell_type": "markdown",
   "metadata": {},
   "source": [
    "Quantifiers\n"
   ]
  },
  {
   "cell_type": "code",
   "execution_count": 138,
   "metadata": {},
   "outputs": [
    {
     "name": "stdout",
     "output_type": "stream",
     "text": [
      "['over', 'lazy']\n",
      "['123-456-7890', '987.654.3210']\n"
     ]
    }
   ],
   "source": [
    "# Find words with 4 letters\n",
    "four_letter_words = re.findall(r'\\b\\w{4}\\b', text)\n",
    "print(four_letter_words)  # ['over', 'lazy']\n",
    "\n",
    "# Match phone number format\n",
    "phone = \"Call me at 123-456-7890 or 987.654.3210\"\n",
    "numbers = re.findall(r'\\d{3}[.-]\\d{3}[.-]\\d{4}', phone)\n",
    "print(numbers)  # ['123-456-7890', '987.654.3210']"
   ]
  },
  {
   "cell_type": "markdown",
   "metadata": {},
   "source": [
    "Groups\n"
   ]
  },
  {
   "cell_type": "code",
   "execution_count": 135,
   "metadata": {},
   "outputs": [
    {
     "name": "stdout",
     "output_type": "stream",
     "text": [
      "Day: 12\n",
      "Month: 05\n",
      "Year: 2023\n"
     ]
    }
   ],
   "source": [
    "# Extract date components\n",
    "date = \"Today is 12-05-2023\"\n",
    "match = re.search(r'(\\d{2})-(\\d{2})-(\\d{4})', date)\n",
    "if match:\n",
    "    print(\"Day:\", match.group(1))    # 12\n",
    "    print(\"Month:\", match.group(2))  # 05\n",
    "    print(\"Year:\", match.group(3))   # 2023"
   ]
  },
  {
   "cell_type": "markdown",
   "metadata": {},
   "source": [
    "Substitution\n"
   ]
  },
  {
   "cell_type": "code",
   "execution_count": 139,
   "metadata": {},
   "outputs": [
    {
     "name": "stdout",
     "output_type": "stream",
     "text": [
      "Call me at XXX-XXX-XXXX or XXX-XXX-XXXX\n",
      "Today is 05-12-2023\n"
     ]
    }
   ],
   "source": [
    "# Redact phone numbers\n",
    "redacted = re.sub(r'\\d{3}[.-]\\d{3}[.-]\\d{4}', 'XXX-XXX-XXXX', phone)\n",
    "print(redacted)  # Call me at XXX-XXX-XXXX or XXX-XXX-XXXX\n",
    "\n",
    "# Swap day and month in dates\n",
    "swapped = re.sub(r'(\\d{2})-(\\d{2})-(\\d{4})', r'\\2-\\1-\\3', date)\n",
    "print(swapped)  # Today is 05-12-2023"
   ]
  },
  {
   "cell_type": "markdown",
   "metadata": {},
   "source": [
    "Compiled Patterns\n"
   ]
  },
  {
   "cell_type": "code",
   "execution_count": 140,
   "metadata": {},
   "outputs": [
    {
     "name": "stdout",
     "output_type": "stream",
     "text": [
      "['support@example.com', 'sales@company.org']\n"
     ]
    }
   ],
   "source": [
    "# Compile pattern for reuse\n",
    "email_pattern = re.compile(r'\\b[\\w.-]+@[\\w.-]+\\.\\w+\\b')\n",
    "\n",
    "text = \"Contact us at support@example.com or sales@company.org\"\n",
    "emails = email_pattern.findall(text)\n",
    "print(emails)  # ['support@example.com', 'sales@company.org']"
   ]
  },
  {
   "cell_type": "markdown",
   "metadata": {},
   "source": [
    "8. Common Use Cases\n",
    "\n",
    "   Email validation\n",
    "\n",
    "   Phone number extraction\n",
    "\n",
    "   Password strength checking\n",
    "\n",
    "   Data cleaning\n",
    "\n",
    "   Log file analysis\n",
    "\n",
    "   Web scraping\n",
    "\n",
    "9. Best Practices\n",
    "\n",
    "   Use raw strings (prefix with r) to avoid escaping issues\n",
    "\n",
    "   Compile patterns if reused frequently\n",
    "\n",
    "   Be specific with patterns to avoid false matches\n",
    "\n",
    "   Test patterns thoroughly with various inputs\n",
    "\n",
    "   Consider readability - complex regex can be hard to maintain\n",
    "\n",
    "10. Exercises\n",
    "\n",
    "    Write a regex to validate email addresses\n",
    "\n",
    "    Extract all hashtags from a tweet (e.g., \"#python #regex\")\n",
    "\n",
    "    Find all words that start and end with the same letter\n",
    "\n",
    "    Validate a date in YYYY-MM-DD format\n",
    "\n",
    "    Remove all non-alphanumeric characters from a string\n",
    "\n",
    "New chat\n"
   ]
  },
  {
   "cell_type": "code",
   "execution_count": null,
   "metadata": {},
   "outputs": [],
   "source": []
  },
  {
   "cell_type": "code",
   "execution_count": null,
   "metadata": {},
   "outputs": [],
   "source": []
  },
  {
   "cell_type": "code",
   "execution_count": null,
   "metadata": {},
   "outputs": [],
   "source": []
  },
  {
   "cell_type": "markdown",
   "metadata": {},
   "source": [
    "<h4 style=\"background-color: black; color: orange; font-family: Consolas, sans-serif; border-radius: 3px; padding: 3px; padding-left: 10px;\">\n",
    "    2.6. Decorators\n",
    "</h4>\n"
   ]
  },
  {
   "cell_type": "markdown",
   "metadata": {},
   "source": [
    "    A decorator is a design pattern in Python that allows a user to add new functionality to an existing function without modifying its structure.\n",
    "\n",
    "    Decorators wrap another function, extending its behavior.\n",
    "\n",
    "    They are represented by the @decorator_name syntax.\n",
    "\n",
    "### 2. Why Use Decorators?\n",
    "\n",
    "    Code Reusability: Avoid rewriting the same logic in multiple functions.\n",
    "\n",
    "    Separation of Concerns: Keep additional functionality (e.g., logging, timing) separate from the main logic.\n",
    "\n",
    "    Cleaner Code: Makes code more readable and modular.\n"
   ]
  },
  {
   "cell_type": "markdown",
   "metadata": {},
   "source": [
    "3. How Decorators Work\n",
    "\n",
    "A decorator takes a function as input, adds some functionality, and returns a modified function.\n"
   ]
  },
  {
   "cell_type": "code",
   "execution_count": 141,
   "metadata": {},
   "outputs": [],
   "source": [
    "def decorator_function(original_function):\n",
    "    def wrapper_function(*args, **kwargs):\n",
    "        # Code to execute before the original function\n",
    "        result = original_function(*args, **kwargs)\n",
    "        # Code to execute after the original function\n",
    "        return result\n",
    "    return wrapper_function\n",
    "\n",
    "@decorator_function\n",
    "def some_function():\n",
    "    # Original function logic\n",
    "    pass"
   ]
  },
  {
   "cell_type": "code",
   "execution_count": null,
   "metadata": {},
   "outputs": [
    {
     "name": "stdout",
     "output_type": "stream",
     "text": [
      "Hello, Alice!\n"
     ]
    }
   ],
   "source": [
    "def logger(func):\n",
    "    def wrapper(*args, **kwargs):\n",
    "        print(f\"Calling function: {func.__name__}\")\n",
    "        return func(*args, **kwargs)\n",
    "    return wrapper\n",
    "\n",
    "@logger\n",
    "def greet(name):\n",
    "    print(f\"Hello, {name}!\")\n",
    "\n",
    "greet(\"Alice\")"
   ]
  },
  {
   "cell_type": "markdown",
   "metadata": {},
   "source": [
    "Example 2: Timing Decorator\n",
    "\n",
    "Measures the execution time of a function.\n"
   ]
  },
  {
   "cell_type": "code",
   "execution_count": 145,
   "metadata": {},
   "outputs": [
    {
     "name": "stdout",
     "output_type": "stream",
     "text": [
      "slow_function took 2.00 seconds to run.\n"
     ]
    }
   ],
   "source": [
    "import time\n",
    "\n",
    "def timer(func):\n",
    "    def wrapper(*args, **kwargs):\n",
    "        start_time = time.time()\n",
    "        result = func(*args, **kwargs)\n",
    "        end_time = time.time()\n",
    "        print(f\"{func.__name__} took {end_time - start_time:.2f} seconds to run.\")\n",
    "        return result\n",
    "    return wrapper\n",
    "\n",
    "@timer\n",
    "def slow_function():\n",
    "    time.sleep(2)\n",
    "\n",
    "slow_function()"
   ]
  },
  {
   "cell_type": "markdown",
   "metadata": {},
   "source": [
    "Example 3: Authorization Decorator\n",
    "\n",
    "Checks if a user is authorized before running a function.\n"
   ]
  },
  {
   "cell_type": "code",
   "execution_count": 150,
   "metadata": {},
   "outputs": [
    {
     "name": "stdout",
     "output_type": "stream",
     "text": [
      "File deleted successfully.\n"
     ]
    },
    {
     "ename": "PermissionError",
     "evalue": "Unauthorized access!",
     "output_type": "error",
     "traceback": [
      "\u001b[1;31m---------------------------------------------------------------------------\u001b[0m",
      "\u001b[1;31mPermissionError\u001b[0m                           Traceback (most recent call last)",
      "Cell \u001b[1;32mIn[150], line 15\u001b[0m\n\u001b[0;32m     12\u001b[0m     \u001b[38;5;28mprint\u001b[39m(\u001b[38;5;124m\"\u001b[39m\u001b[38;5;124mFile deleted successfully.\u001b[39m\u001b[38;5;124m\"\u001b[39m)\n\u001b[0;32m     14\u001b[0m delete_file(user\u001b[38;5;241m=\u001b[39m\u001b[38;5;124m\"\u001b[39m\u001b[38;5;124madmin\u001b[39m\u001b[38;5;124m\"\u001b[39m)  \u001b[38;5;66;03m# Works\u001b[39;00m\n\u001b[1;32m---> 15\u001b[0m \u001b[43mdelete_file\u001b[49m\u001b[43m(\u001b[49m\u001b[43muser\u001b[49m\u001b[38;5;241;43m=\u001b[39;49m\u001b[38;5;124;43m\"\u001b[39;49m\u001b[38;5;124;43mguest\u001b[39;49m\u001b[38;5;124;43m\"\u001b[39;49m\u001b[43m)\u001b[49m  \u001b[38;5;66;03m# Raises PermissionError\u001b[39;00m\n",
      "Cell \u001b[1;32mIn[150], line 7\u001b[0m, in \u001b[0;36mcheck_auth.<locals>.wrapper\u001b[1;34m(*args, **kwargs)\u001b[0m\n\u001b[0;32m      5\u001b[0m     \u001b[38;5;28;01mreturn\u001b[39;00m func(\u001b[38;5;241m*\u001b[39margs, \u001b[38;5;241m*\u001b[39m\u001b[38;5;241m*\u001b[39mkwargs)\n\u001b[0;32m      6\u001b[0m \u001b[38;5;28;01melse\u001b[39;00m:\n\u001b[1;32m----> 7\u001b[0m     \u001b[38;5;28;01mraise\u001b[39;00m \u001b[38;5;167;01mPermissionError\u001b[39;00m(\u001b[38;5;124m\"\u001b[39m\u001b[38;5;124mUnauthorized access!\u001b[39m\u001b[38;5;124m\"\u001b[39m)\n",
      "\u001b[1;31mPermissionError\u001b[0m: Unauthorized access!"
     ]
    }
   ],
   "source": [
    "def check_auth(func):\n",
    "    def wrapper(*args, **kwargs):\n",
    "        user = kwargs.get(\"user\", None)\n",
    "        if user == \"admin\":\n",
    "            return func(*args, **kwargs)\n",
    "        else:\n",
    "            raise PermissionError(\"Unauthorized access!\")\n",
    "    return wrapper\n",
    "\n",
    "@check_auth\n",
    "def delete_file(user=None):\n",
    "    print(\"File deleted successfully.\")\n",
    "\n",
    "delete_file(user=\"admin\")  # Works\n",
    "delete_file(user=\"guest\")  # Raises PermissionError"
   ]
  },
  {
   "cell_type": "markdown",
   "metadata": {},
   "source": [
    "5. Chaining Decorators\n",
    "\n",
    "Multiple decorators can be applied to a single function.\n",
    "They execute from bottom to top (the order they are stacked).\n"
   ]
  },
  {
   "cell_type": "code",
   "execution_count": 152,
   "metadata": {},
   "outputs": [
    {
     "name": "stdout",
     "output_type": "stream",
     "text": [
      "<b><i>Peter</i></b>\n"
     ]
    }
   ],
   "source": [
    "def bold(func):\n",
    "    def wrapper():\n",
    "        return \"<b>\" + func() + \"</b>\"\n",
    "    return wrapper\n",
    "\n",
    "def italic(func):\n",
    "    def wrapper():\n",
    "        return \"<i>\" + func() + \"</i>\"\n",
    "    return wrapper\n",
    "\n",
    "@bold\n",
    "@italic\n",
    "def say_hello():\n",
    "    return \"Peter\"\n",
    "\n",
    "print(say_hello())"
   ]
  },
  {
   "cell_type": "markdown",
   "metadata": {},
   "source": [
    "6. Decorators with Arguments\n",
    "\n",
    "Sometimes, decorators need to accept arguments.\n",
    "This requires an extra layer of nesting.\n"
   ]
  },
  {
   "cell_type": "code",
   "execution_count": 153,
   "metadata": {},
   "outputs": [
    {
     "name": "stdout",
     "output_type": "stream",
     "text": [
      "Hi!\n",
      "Hi!\n",
      "Hi!\n"
     ]
    }
   ],
   "source": [
    "def repeat(n):\n",
    "    def decorator(func):\n",
    "        def wrapper(*args, **kwargs):\n",
    "            for _ in range(n):\n",
    "                func(*args, **kwargs)\n",
    "        return wrapper\n",
    "    return decorator\n",
    "\n",
    "@repeat(3)\n",
    "def say_hi():\n",
    "    print(\"Hi!\")\n",
    "\n",
    "say_hi()"
   ]
  },
  {
   "cell_type": "markdown",
   "metadata": {},
   "source": [
    "7. Class-Based Decorators\n",
    "\n",
    "Decorators can also be implemented using classes with **call** method.\n"
   ]
  },
  {
   "cell_type": "code",
   "execution_count": 154,
   "metadata": {},
   "outputs": [
    {
     "name": "stdout",
     "output_type": "stream",
     "text": [
      "Function say_hello has been called 1 times.\n",
      "Hello!\n",
      "Function say_hello has been called 2 times.\n",
      "Hello!\n"
     ]
    }
   ],
   "source": [
    "class CountCalls:\n",
    "    def __init__(self, func):\n",
    "        self.func = func\n",
    "        self.calls = 0\n",
    "\n",
    "    def __call__(self, *args, **kwargs):\n",
    "        self.calls += 1\n",
    "        print(f\"Function {self.func.__name__} has been called {self.calls} times.\")\n",
    "        return self.func(*args, **kwargs)\n",
    "\n",
    "@CountCalls\n",
    "def say_hello():\n",
    "    print(\"Hello!\")\n",
    "\n",
    "say_hello()\n",
    "say_hello()"
   ]
  },
  {
   "cell_type": "markdown",
   "metadata": {},
   "source": [
    "8. Summary\n",
    "\n",
    "   Decorators modify or enhance functions without changing their core logic.\n",
    "\n",
    "   They use the @decorator_name syntax.\n",
    "\n",
    "   Can be used for logging, timing, authorization, etc.\n",
    "\n",
    "   Can accept arguments and be chained.\n",
    "\n",
    "   Can be implemented as functions or classes.\n",
    "\n",
    "9. Practice Exercise\n",
    "\n",
    "   Create a decorator that capitalizes the return value of a function.\n",
    "\n",
    "   Write a decorator that caches the result of a function to avoid recomputation.\n",
    "\n",
    "   Implement a retry decorator that retries a function if it fails.\n"
   ]
  },
  {
   "cell_type": "markdown",
   "metadata": {},
   "source": [
    "<h4 style=\"background-color: black; color: orange; font-family: Consolas, sans-serif; border-radius: 3px; padding: 3px; padding-left: 10px;\">\n",
    "    2.7. Iterations\n",
    "</h4>\n"
   ]
  },
  {
   "cell_type": "markdown",
   "metadata": {},
   "source": [
    "<h4 style=\"background-color: black; color: orange; font-family: Consolas, sans-serif; border-radius: 3px; padding: 3px; padding-left: 10px;\">\n",
    "    2.8. Lamdas \n",
    "</h4>\n"
   ]
  },
  {
   "cell_type": "markdown",
   "metadata": {},
   "source": [
    "<h4 style=\"background-color: black; color: orange; font-family: Consolas, sans-serif; border-radius: 3px; padding: 3px; padding-left: 10px;\">\n",
    "    2.9. Functional Programming\n",
    "</h4>\n"
   ]
  },
  {
   "cell_type": "markdown",
   "metadata": {},
   "source": [
    "<h4 style=\"background-color: black; color: orange; font-family: Consolas, sans-serif; border-radius: 3px; padding: 3px; padding-left: 10px;\">\n",
    "    2.10. Map, Reduce, Filters\n",
    "</h4>\n"
   ]
  },
  {
   "cell_type": "markdown",
   "metadata": {},
   "source": [
    "<h4 style=\"background-color: black; color: orange; font-family: Consolas, sans-serif; border-radius: 3px; padding: 3px; padding-left: 10px;\">\n",
    "    2.11. Threading\n",
    "</h4>\n"
   ]
  },
  {
   "cell_type": "markdown",
   "metadata": {},
   "source": [
    "<h4 style=\"background-color: black; color: orange; font-family: Consolas, sans-serif; border-radius: 3px; padding: 3px; padding-left: 10px;\">\n",
    "    2.12. Magic Methods\n",
    "</h4>\n"
   ]
  },
  {
   "cell_type": "markdown",
   "metadata": {},
   "source": [
    "<h4 style=\"background-color: orange; color: white; font-family: Consolas, sans-serif; border-radius: 3px; padding: 3px; padding-left: 10px; padding-top: 10px; padding-bottom: 10px \">\n",
    "    Chapter 3: Web Frameworks\n",
    "</h4>\n"
   ]
  },
  {
   "cell_type": "markdown",
   "metadata": {},
   "source": [
    "<h4 style=\"background-color: black; color: orange; font-family: Consolas, sans-serif; border-radius: 3px; padding: 3px; padding-left: 10px;\">\n",
    "    3. Django\n",
    "</h4>\n"
   ]
  },
  {
   "cell_type": "markdown",
   "metadata": {},
   "source": [
    "<h4 style=\"background-color: black; color: orange; font-family: Consolas, sans-serif; border-radius: 3px; padding: 3px; padding-left: 10px;\">\n",
    "    3. Flask\n",
    "</h4>\n"
   ]
  },
  {
   "cell_type": "markdown",
   "metadata": {},
   "source": [
    "<h4 style=\"background-color: black; color: orange; font-family: Consolas, sans-serif; border-radius: 3px; padding: 3px; padding-left: 10px;\">\n",
    "    3. FastAPI\n",
    "</h4>\n"
   ]
  },
  {
   "cell_type": "markdown",
   "metadata": {},
   "source": [
    "<h4 style=\"background-color: orange; color: white; font-family: Consolas, sans-serif; border-radius: 3px; padding: 3px; padding-left: 10px; padding-top: 10px; padding-bottom: 10px \">\n",
    "    Chapter 4: Object Oriented Programming\n",
    "</h4>\n"
   ]
  },
  {
   "cell_type": "markdown",
   "metadata": {},
   "source": [
    "    OOP (Object-Oriented Programming) in Python is a programming paradigm based on the concept of “objects,” which are reusable, self-contained pieces of code that bundle together data (attributes) and behavior (methods). In Python, OOP allows you to create classes, which serve as blueprints for creating objects. This helps you organize code in a logical, modular way and makes it easier to maintain, extend, and reuse.\n",
    "\n",
    "### Key OOP concepts in Python include:\n",
    "\n",
    "✅ Class — a template for creating objects (like a blueprint).\n",
    "\n",
    "✅ Object — an instance of a class.\n",
    "\n",
    "✅ Attributes — variables stored inside an object (its data).\n",
    "\n",
    "✅ Methods — functions defined inside a class (its behavior).\n",
    "\n",
    "✅ Inheritance — lets you create new classes from existing ones to reuse or extend functionality.\n",
    "\n",
    "✅ Encapsulation — keeps data safe by bundling attributes and methods inside classes.\n",
    "\n",
    "✅ Polymorphism — lets you use the same method name in different classes, behaving differently depending on context.\n"
   ]
  },
  {
   "cell_type": "code",
   "execution_count": 106,
   "metadata": {},
   "outputs": [
    {
     "name": "stdout",
     "output_type": "stream",
     "text": [
      "Buddy says woof!\n"
     ]
    }
   ],
   "source": [
    "class Dog:\n",
    "    def __init__(self, name):\n",
    "        self.name = name\n",
    "\n",
    "    def bark(self):\n",
    "        print(f\"{self.name} says woof!\")\n",
    "\n",
    "# create an object\n",
    "my_dog = Dog(\"Buddy\")\n",
    "my_dog.bark()  # Buddy says woof!\n"
   ]
  },
  {
   "cell_type": "markdown",
   "metadata": {},
   "source": [
    "### Example 1.\n",
    "\n",
    "    Let us consider some examples of OOP and how it is written. Our first OOP will be called SimpleOperation\n"
   ]
  },
  {
   "cell_type": "code",
   "execution_count": 107,
   "metadata": {},
   "outputs": [
    {
     "name": "stdout",
     "output_type": "stream",
     "text": [
      "Addition:       80 + 10 = 90\n",
      "Subtraction:    80 - 10 = 70\n",
      "Multiplication: 80 * 10 = 800\n",
      "Division:       80 / 10 = 8.0\n"
     ]
    }
   ],
   "source": [
    "class SimpleOperation():\n",
    "    def __init__(self, x1, x2):     # Special method : Instantiate the methods\n",
    "        self.number1 = x1           # Attribute                # Anytime the class is called, the __init__() method is called \n",
    "        self.number2 = x2           # Attribute\n",
    "\n",
    "    def addition(self):                                 # Method 1                  \n",
    "        return  f\"Addition:       {self.number1} + {self.number2} = {self.number1 + self.number2}\" \n",
    "\n",
    "    def subtraction(self):                              # Method 2\n",
    "        return f\"Subtraction:    {self.number1} - {self.number2} = {self.number1 - self.number2}\" \n",
    "\n",
    "    def multiplication(self):                           # Method 3\n",
    "        return f\"Multiplication: {self.number1} * {self.number2} = {self.number1 * self.number2}\" \n",
    "\n",
    "    def division(self):                                 # Method 4\n",
    "        return f\"Division:       {self.number1} / {self.number2} = {self.number1 / self.number2}\" \n",
    "\n",
    "\n",
    "simple_operation = SimpleOperation(80, 10)              # Object\n",
    "\n",
    "addition = simple_operation.addition()\n",
    "substraction = simple_operation.subtraction()\n",
    "multiplication = simple_operation.multiplication()\n",
    "division = simple_operation.division()\n",
    "\n",
    "print(addition)\n",
    "print(substraction)\n",
    "print(multiplication)\n",
    "print(division)"
   ]
  },
  {
   "cell_type": "markdown",
   "metadata": {},
   "source": [
    "### Example 2\n",
    "\n",
    "    Let's create a second OOP that check the length, type and compare two difference variable. Let's call it CheckVariables\n"
   ]
  },
  {
   "cell_type": "code",
   "execution_count": 108,
   "metadata": {},
   "outputs": [
    {
     "name": "stdout",
     "output_type": "stream",
     "text": [
      "False\n",
      "(<class 'int'>, <class 'float'>)\n",
      "(2, 7)\n"
     ]
    }
   ],
   "source": [
    "class CheckVariables():\n",
    "    def __init__(self, x1, x2):\n",
    "        self.x1 = x1 \n",
    "        self.x2 = x2 \n",
    "    \n",
    "    def length(self):\n",
    "        return len(str(self.x1)), len(str(self.x2))\n",
    "    \n",
    "    def data_type(self):\n",
    "        return type(self.x1), type(self.x2)\n",
    "\n",
    "    def is_equal(self):\n",
    "        return self.x1 == self.x2 \n",
    "\n",
    "\n",
    "check = CheckVariables(15, 200.001)\n",
    "\n",
    "equal = check.is_equal()\n",
    "data_type = check.data_type()\n",
    "length = check.length()\n",
    "\n",
    "print(equal)\n",
    "print(data_type)\n",
    "print(length)"
   ]
  },
  {
   "cell_type": "markdown",
   "metadata": {},
   "source": [
    "### Example 3\n",
    "\n",
    "    Let's create two OOPs, the first to create a student database, the second add the student to a Course\n"
   ]
  },
  {
   "cell_type": "code",
   "execution_count": 109,
   "metadata": {},
   "outputs": [
    {
     "name": "stdout",
     "output_type": "stream",
     "text": [
      "30\n",
      "Peter Zorve\n",
      "80\n",
      "PETER ZORVE  was added Successfully\n",
      "BEATRICE ENYONAM  was added Successfully\n",
      "JAMES OBBIN  was added Successfully\n",
      "JOHN WILLS  was added Successfully\n",
      "WILLIAMS JUNE  was added Successfully\n",
      "Adding   BILL GATE   failed\n",
      "85.0\n",
      "['Beatrice Enyonam', 'James Obbin', 'John Wills', 'Williams June']\n"
     ]
    }
   ],
   "source": [
    "class Student():\n",
    "    def __init__(self, name, age, grade):\n",
    "        self.name = name \n",
    "        self.age  = age  \n",
    "        self.grade = grade \n",
    "\n",
    "    def get_name(self):\n",
    "        return self.name \n",
    "    \n",
    "    def get_grade(self):\n",
    "        return self.grade \n",
    "\n",
    "    def get_age(self):\n",
    "        return self.age \n",
    "\n",
    "\n",
    "class Course():\n",
    "    def __init__(self, course, max_students):\n",
    "        self.course = course \n",
    "        self.students = []\n",
    "        self.max_students = max_students \n",
    "        \n",
    "    def add_student(self, name):\n",
    "        if len(self.students) <= self.max_students-1:\n",
    "            self.students.append(name)\n",
    "            return f'{name.get_name().upper()}  was added Successfully' \n",
    "        return f'Adding   {name.get_name().upper()}   failed' \n",
    "    \n",
    "    def remove_student(self, name):\n",
    "        if name in self.students:\n",
    "            self.students.remove(name)\n",
    "\n",
    "    def get_average_grade(self): \n",
    "        total_grade = 0 \n",
    "        for i in self.students: \n",
    "            total_grade = total_grade + i.get_grade()\n",
    "        average_grade = total_grade / len(self.students)\n",
    "        return average_grade \n",
    "\n",
    "    def get_student_names(self):\n",
    "        only_names = [] \n",
    "        for i in self.students: \n",
    "            only_names.append(i.get_name())\n",
    "        return only_names\n",
    "\n",
    "\n",
    "student1 = Student('Peter Zorve', 30, 80)\n",
    "student2 = Student('Beatrice Enyonam', 35, 90)\n",
    "student3 = Student('James Obbin', 30, 80)\n",
    "student4 = Student('John Wills', 35, 90)\n",
    "student5 = Student('Williams June', 30, 80)\n",
    "student6 = Student('Bill Gate', 35, 90)\n",
    "\n",
    "course = Course('Python Class', 5)\n",
    "\n",
    "\n",
    "print(student1.age)\n",
    "print(student1.name)\n",
    "print(student1.grade)\n",
    "\n",
    "print(course.add_student(student1))\n",
    "print(course.add_student(student2))\n",
    "print(course.add_student(student3))\n",
    "print(course.add_student(student4))\n",
    "print(course.add_student(student5))\n",
    "print(course.add_student(student6))\n",
    "\n",
    "\n",
    "course.remove_student(student1)\n",
    "\n",
    "print(course.get_average_grade())\n",
    "print(course.get_student_names())\n",
    "\n"
   ]
  },
  {
   "cell_type": "markdown",
   "metadata": {},
   "source": [
    "### INHERITANCE\n"
   ]
  },
  {
   "cell_type": "markdown",
   "metadata": {},
   "source": [
    "#### Before\n",
    "\n",
    "    In the first senario, shown below, both Cat and Dog classes have name and age attributes, the only difference is a Cat speak (MEOOW) differently than a Dog (BARK). They both have the property speak, but their outputs are different\n",
    "    The naive way of writing this will be as follows.\n"
   ]
  },
  {
   "cell_type": "code",
   "execution_count": 110,
   "metadata": {},
   "outputs": [
    {
     "name": "stdout",
     "output_type": "stream",
     "text": [
      "My name Catty. I am 13 years old. I MEOOOOW\n",
      "My name Doggy. I am 5 years old. I BARK\n"
     ]
    }
   ],
   "source": [
    "class Cat():\n",
    "    def __init__(self, name, age):\n",
    "        self.name = name \n",
    "        self.age  = age \n",
    "    def speak(self):\n",
    "        return f'My name {self.name}. I am {self.age} years old. I MEOOOOW'\n",
    "    \n",
    "class Dog():\n",
    "    def __init__(self, name, age):\n",
    "        self.name = name \n",
    "        self.age = age \n",
    "    def speak(self):\n",
    "        return f'My name {self.name}. I am {self.age} years old. I BARK'\n",
    "\n",
    "\n",
    "cat = Cat('Catty', 13)\n",
    "dog = Dog('Doggy', 5)\n",
    "\n",
    "print(cat.speak())\n",
    "print(dog.speak())\n"
   ]
  },
  {
   "cell_type": "markdown",
   "metadata": {},
   "source": [
    "#### After\n",
    "\n",
    "    We can now have a parent class, called Pet, that contains all the common characteristics and the Cat and Dog class could inherit that.\n"
   ]
  },
  {
   "cell_type": "code",
   "execution_count": 111,
   "metadata": {},
   "outputs": [
    {
     "name": "stdout",
     "output_type": "stream",
     "text": [
      "I am just a Pet. I do not know what to say\n",
      "My name Catty. I am 13 years old. I MEOOOOW\n",
      "My name Doggy. I am 5 years old. I BARK\n",
      "I am Fishy. I just Bubble in the Lake\n"
     ]
    }
   ],
   "source": [
    "\n",
    "class Pet():\n",
    "    def __init__(self, name, age):\n",
    "        self.name = name \n",
    "        self.age  = age \n",
    "\n",
    "    def speak(self):\n",
    "        return 'I am just a Pet. I do not know what to say'\n",
    "\n",
    "class Cat(Pet):\n",
    "    def speak(self):\n",
    "        return f'My name {self.name}. I am {self.age} years old. I MEOOOOW'\n",
    "    \n",
    "class Dog(Pet):\n",
    "    def speak(self):\n",
    "        return f'My name {self.name}. I am {self.age} years old. I BARK'\n",
    "\n",
    "\n",
    "    \n",
    "class Fish(Pet):\n",
    "    def __init__(self, name, age, water):\n",
    "        super().__init__(name, age)\n",
    "        self.water = water \n",
    "\n",
    "    def speak(self):\n",
    "        return f'I am {self.name}. I just Bubble in the {self.water}'\n",
    "        \n",
    "\n",
    "pet = Pet('Pet', 15)\n",
    "cat = Cat('Catty', 13)\n",
    "dog = Dog('Doggy', 5)\n",
    "fish = Fish('Fishy', 20, 'Lake')\n",
    "\n",
    "print(pet.speak())\n",
    "print(cat.speak())\n",
    "print(dog.speak())\n",
    "print(fish.speak())\n",
    "\n"
   ]
  },
  {
   "cell_type": "markdown",
   "metadata": {},
   "source": [
    "### ENCAPSULATION\n",
    "\n",
    "    In encapsulation, we try to hide some of the features, variables, and method.\n",
    "    We can do that by using a double underscore\n"
   ]
  },
  {
   "cell_type": "code",
   "execution_count": 112,
   "metadata": {},
   "outputs": [
    {
     "name": "stdout",
     "output_type": "stream",
     "text": [
      "800\n",
      "720.0\n"
     ]
    }
   ],
   "source": [
    "class Payment():\n",
    "    def __init__(self, price):\n",
    "        self.price = price  + (0.25 * price)\n",
    "\n",
    "    def calculate_discount(self, discount):\n",
    "        return self.price - (self.price * (discount/100))\n",
    "\n",
    "    def get_price(self):\n",
    "        return self.price \n",
    "\n",
    "    def final_price(self, discount):\n",
    "        return  self.calculate_discount(discount)\n",
    "    \n",
    "\"\"\" If the class is like the above, the user can modify the varible (price) in the class from the outside. \"\"\"\n",
    "\n",
    "pay = Payment(200)\n",
    "\n",
    "pay.price = 800 \n",
    "\n",
    "print(pay.get_price())\n",
    "print(pay.final_price(10))"
   ]
  },
  {
   "cell_type": "markdown",
   "metadata": {},
   "source": [
    "#### After\n"
   ]
  },
  {
   "cell_type": "code",
   "execution_count": 113,
   "metadata": {},
   "outputs": [
    {
     "name": "stdout",
     "output_type": "stream",
     "text": [
      "250.0\n",
      "225.0\n"
     ]
    }
   ],
   "source": [
    "class Payment():\n",
    "    def __init__(self, price):\n",
    "        self.__price = price  + (0.25 * price)\n",
    "\n",
    "    def __calculate_discount(self, discount):\n",
    "        return self.__price - (self.__price * (discount/100))\n",
    "\n",
    "    def get_price(self):\n",
    "        return self.__price \n",
    "\n",
    "    def final_price(self, discount):\n",
    "        return  self.__calculate_discount(discount)\n",
    "    \n",
    "\n",
    "\"\"\" Here, the code and class works exactly the same way, but the user cannot modify the variable (price) from outside the class \"\"\"\n",
    "\n",
    "pay = Payment(200)\n",
    "\n",
    "pay.__price = 800 \n",
    "\n",
    "print(pay.get_price())\n",
    "print(pay.final_price(10))\n"
   ]
  },
  {
   "cell_type": "markdown",
   "metadata": {},
   "source": [
    "### ABSTRACTION\n",
    "\n",
    "    In abstraction, we try to hide some of the and method and how it is implemented from the user\n",
    "    The user can only user the method but have no idea how it was implent. We achieve that with a underscore\n"
   ]
  },
  {
   "cell_type": "code",
   "execution_count": 114,
   "metadata": {},
   "outputs": [
    {
     "data": {
      "text/plain": [
       "' Here the mothod calculate_discount() is public '"
      ]
     },
     "execution_count": 114,
     "metadata": {},
     "output_type": "execute_result"
    }
   ],
   "source": [
    "class Payment():\n",
    "    def __init__(self, price):\n",
    "        self.price = price  + (0.25 * price)\n",
    "\n",
    "    def calculate_discount(self, discount):\n",
    "        return self.price - (self.price * (discount/100))\n",
    "\n",
    "    def get_price(self):\n",
    "        return self.price \n",
    "\n",
    "    def final_price(self, discount):\n",
    "        return  self.calculate_discount(discount)\n",
    "    \n",
    "\"\"\" Here the mothod calculate_discount() is public \"\"\""
   ]
  },
  {
   "cell_type": "markdown",
   "metadata": {},
   "source": [
    "#### After\n"
   ]
  },
  {
   "cell_type": "code",
   "execution_count": 115,
   "metadata": {},
   "outputs": [
    {
     "data": {
      "text/plain": [
       "' Here the mothod __calculate_discount() is private '"
      ]
     },
     "execution_count": 115,
     "metadata": {},
     "output_type": "execute_result"
    }
   ],
   "source": [
    "class Payment():\n",
    "    def __init__(self, price):\n",
    "        self.__price = price  + (0.25 * price)\n",
    "\n",
    "    def __calculate_discount(self, discount):\n",
    "        return self.__price - (self.__price * (discount/100))\n",
    "\n",
    "    def get_price(self):\n",
    "        return self.__price \n",
    "\n",
    "    def final_price(self, discount):\n",
    "        return  self.__calculate_discount(discount)\n",
    "    \n",
    "\n",
    "\"\"\" Here the mothod __calculate_discount() is private \"\"\""
   ]
  },
  {
   "cell_type": "markdown",
   "metadata": {},
   "source": [
    "### Polymorphism\n"
   ]
  },
  {
   "cell_type": "code",
   "execution_count": 116,
   "metadata": {},
   "outputs": [
    {
     "name": "stdout",
     "output_type": "stream",
     "text": [
      "Greeting in English is - Good Morning\n",
      "Greeting in French is  - Bonjour\n"
     ]
    }
   ],
   "source": [
    "class English():\n",
    "    def hello(self):\n",
    "        return 'Greeting in English is - Good Morning'\n",
    "    \n",
    "\n",
    "class French():\n",
    "    def hello(self):\n",
    "        return 'Greeting in French is  - Bonjour'\n",
    "\n",
    "\n",
    "english = English()\n",
    "french  = French()\n",
    "\n",
    "\n",
    "def speaking(greet):\n",
    "    return  greet.hello()\n",
    "\n",
    "print(speaking(english))\n",
    "print(speaking(french))"
   ]
  },
  {
   "cell_type": "markdown",
   "metadata": {},
   "source": [
    "<h4 style=\"background-color: orange; color: white; font-family: Consolas, sans-serif; border-radius: 3px; padding: 3px; padding-left: 10px; padding-top: 10px; padding-bottom: 10px \">\n",
    "    Chapter 5: Data Science\n",
    "</h4>\n"
   ]
  },
  {
   "cell_type": "markdown",
   "metadata": {},
   "source": [
    "<h4 style=\"background-color: black; color: orange; font-family: Consolas, sans-serif; border-radius: 3px; padding: 3px; padding-left: 10px;\">\n",
    "    5. NumPy\n",
    "</h4>\n"
   ]
  },
  {
   "cell_type": "markdown",
   "metadata": {},
   "source": [
    "<h4 style=\"background-color: black; color: orange; font-family: Consolas, sans-serif; border-radius: 3px; padding: 3px; padding-left: 10px;\">\n",
    "    5. Pandas\n",
    "</h4>\n"
   ]
  },
  {
   "cell_type": "markdown",
   "metadata": {},
   "source": [
    "<h4 style=\"background-color: black; color: orange; font-family: Consolas, sans-serif; border-radius: 3px; padding: 3px; padding-left: 10px;\">\n",
    "    5. Matplotlib\n",
    "</h4>\n"
   ]
  },
  {
   "cell_type": "markdown",
   "metadata": {},
   "source": [
    "<h4 style=\"background-color: black; color: orange; font-family: Consolas, sans-serif; border-radius: 3px; padding: 3px; padding-left: 10px;\">\n",
    "    5. Seaborn\n",
    "</h4>\n"
   ]
  },
  {
   "cell_type": "markdown",
   "metadata": {},
   "source": [
    "<h4 style=\"background-color: black; color: orange; font-family: Consolas, sans-serif; border-radius: 3px; padding: 3px; padding-left: 10px;\">\n",
    "    5. Scikit-learn\n",
    "</h4>\n"
   ]
  },
  {
   "cell_type": "markdown",
   "metadata": {},
   "source": [
    "<h4 style=\"background-color: black; color: orange; font-family: Consolas, sans-serif; border-radius: 3px; padding: 3px; padding-left: 10px;\">\n",
    "    5. TensorFlow\n",
    "</h4>\n"
   ]
  },
  {
   "cell_type": "markdown",
   "metadata": {},
   "source": [
    "<h4 style=\"background-color: black; color: orange; font-family: Consolas, sans-serif; border-radius: 3px; padding: 3px; padding-left: 10px;\">\n",
    "    5. PyTorch\n",
    "</h4>\n"
   ]
  },
  {
   "cell_type": "markdown",
   "metadata": {},
   "source": [
    "<h4 style=\"background-color: orange; color: white; font-family: Consolas, sans-serif; border-radius: 3px; padding: 3px; padding-left: 10px; padding-top: 10px; padding-bottom: 10px \">\n",
    "    Chapter 6: Testing\n",
    "</h4>\n"
   ]
  },
  {
   "cell_type": "markdown",
   "metadata": {},
   "source": [
    "<h4 style=\"background-color: black; color: orange; font-family: Consolas, sans-serif; border-radius: 3px; padding: 3px; padding-left: 10px;\">\n",
    "    6. Unit Testing\n",
    "</h4>\n"
   ]
  },
  {
   "cell_type": "markdown",
   "metadata": {},
   "source": [
    "<h4 style=\"background-color: black; color: orange; font-family: Consolas, sans-serif; border-radius: 3px; padding: 3px; padding-left: 10px;\">\n",
    "    6. Integration Testing\n",
    "</h4>\n"
   ]
  },
  {
   "cell_type": "markdown",
   "metadata": {},
   "source": [
    "<h4 style=\"background-color: black; color: orange; font-family: Consolas, sans-serif; border-radius: 3px; padding: 3px; padding-left: 10px;\">\n",
    "    6. End-to-end testing\n",
    "</h4>\n"
   ]
  },
  {
   "cell_type": "markdown",
   "metadata": {},
   "source": [
    "<h4 style=\"background-color: black; color: orange; font-family: Consolas, sans-serif; border-radius: 3px; padding: 3px; padding-left: 10px;\">\n",
    "    6. Load testing\n",
    "</h4>\n"
   ]
  },
  {
   "cell_type": "markdown",
   "metadata": {},
   "source": [
    "<h4 style=\"background-color: orange; color: white; font-family: Consolas, sans-serif; border-radius: 3px; padding: 3px; padding-left: 10px; padding-top: 10px; padding-bottom: 10px \">\n",
    "    Chapter 7: Automation\n",
    "</h4>\n"
   ]
  },
  {
   "cell_type": "markdown",
   "metadata": {},
   "source": [
    "<h4 style=\"background-color: black; color: orange; font-family: Consolas, sans-serif; border-radius: 3px; padding: 3px; padding-left: 10px;\">\n",
    "    7. File Manipulations\n",
    "</h4>\n"
   ]
  },
  {
   "cell_type": "markdown",
   "metadata": {},
   "source": [
    "<h4 style=\"background-color: black; color: orange; font-family: Consolas, sans-serif; border-radius: 3px; padding: 3px; padding-left: 10px;\">\n",
    "    7. Web scrapping\n",
    "</h4>\n"
   ]
  },
  {
   "cell_type": "markdown",
   "metadata": {},
   "source": [
    "<h4 style=\"background-color: black; color: orange; font-family: Consolas, sans-serif; border-radius: 3px; padding: 3px; padding-left: 10px;\">\n",
    "    7. GUI Automations\n",
    "</h4>\n"
   ]
  },
  {
   "cell_type": "markdown",
   "metadata": {},
   "source": [
    "<h4 style=\"background-color: black; color: orange; font-family: Consolas, sans-serif; border-radius: 3px; padding: 3px; padding-left: 10px;\">\n",
    "    7. Network Automation\n",
    "</h4>\n"
   ]
  },
  {
   "cell_type": "markdown",
   "metadata": {},
   "source": [
    "<h4 style=\"background-color: orange; color: white; font-family: Consolas, sans-serif; border-radius: 3px; padding: 3px; padding-left: 10px; padding-top: 10px; padding-bottom: 10px \">\n",
    "    Chapter 8: DSA\n",
    "</h4>\n"
   ]
  },
  {
   "cell_type": "markdown",
   "metadata": {},
   "source": [
    "<h4 style=\"background-color: black; color: orange; font-family: Consolas, sans-serif; border-radius: 3px; padding: 3px; padding-left: 10px;\">\n",
    "    8. Arrays & Linked Lists\n",
    "</h4>\n"
   ]
  },
  {
   "cell_type": "markdown",
   "metadata": {},
   "source": [
    "<h4 style=\"background-color: black; color: orange; font-family: Consolas, sans-serif; border-radius: 3px; padding: 3px; padding-left: 10px;\">\n",
    "    8. Heaps, Stacks & Queue\n",
    "</h4>\n"
   ]
  },
  {
   "cell_type": "markdown",
   "metadata": {},
   "source": [
    "<h4 style=\"background-color: black; color: orange; font-family: Consolas, sans-serif; border-radius: 3px; padding: 3px; padding-left: 10px;\">\n",
    "    8. Harsh Tables\n",
    "</h4>\n"
   ]
  },
  {
   "cell_type": "markdown",
   "metadata": {},
   "source": [
    "<h4 style=\"background-color: black; color: orange; font-family: Consolas, sans-serif; border-radius: 3px; padding: 3px; padding-left: 10px;\">\n",
    "    8. Binary Search Trees\n",
    "</h4>\n"
   ]
  },
  {
   "cell_type": "markdown",
   "metadata": {},
   "source": [
    "<h4 style=\"background-color: black; color: orange; font-family: Consolas, sans-serif; border-radius: 3px; padding: 3px; padding-left: 10px;\">\n",
    "    8. Recursion\n",
    "</h4>\n"
   ]
  },
  {
   "cell_type": "markdown",
   "metadata": {},
   "source": [
    "<h4 style=\"background-color: black; color: orange; font-family: Consolas, sans-serif; border-radius: 3px; padding: 3px; padding-left: 10px;\">\n",
    "    8. Sorting Algorithms\n",
    "</h4>\n"
   ]
  },
  {
   "cell_type": "markdown",
   "metadata": {},
   "source": []
  },
  {
   "cell_type": "markdown",
   "metadata": {},
   "source": []
  },
  {
   "cell_type": "markdown",
   "metadata": {},
   "source": []
  },
  {
   "cell_type": "code",
   "execution_count": 117,
   "metadata": {},
   "outputs": [
    {
     "name": "stdout",
     "output_type": "stream",
     "text": [
      "The input you provided is not a string/text\n",
      "No character found\n"
     ]
    }
   ],
   "source": [
    "def charact_count(text): \n",
    "    count_dictionary = {}\n",
    "    if type(text) == str:\n",
    "        for character in text: \n",
    "            if character == \" \": \n",
    "                pass \n",
    "            else: \n",
    "                if character not in count_dictionary: \n",
    "                    count_dictionary[character] = 1\n",
    "                else: \n",
    "                    count_dictionary[character] = count_dictionary[character] + 1\n",
    "    else: \n",
    "        print(\"The input you provided is not a string/text\")\n",
    "    \n",
    "    if len(count_dictionary) == 0: \n",
    "        print(\"No character found\")\n",
    "    else: \n",
    "        print(count_dictionary)\n",
    "    return \n",
    "\n",
    "charact_count([\"111111111111111112\"])"
   ]
  },
  {
   "cell_type": "code",
   "execution_count": 118,
   "metadata": {},
   "outputs": [
    {
     "ename": "SyntaxError",
     "evalue": "invalid syntax (3474994456.py, line 1)",
     "output_type": "error",
     "traceback": [
      "\u001b[1;36m  Cell \u001b[1;32mIn[118], line 1\u001b[1;36m\u001b[0m\n\u001b[1;33m    jupyter nbconvert mybook.ipynb --to pdf\u001b[0m\n\u001b[1;37m            ^\u001b[0m\n\u001b[1;31mSyntaxError\u001b[0m\u001b[1;31m:\u001b[0m invalid syntax\n"
     ]
    }
   ],
   "source": [
    "jupyter nbconvert mybook.ipynb --to pdf"
   ]
  }
 ],
 "metadata": {
  "kernelspec": {
   "display_name": "Python 3",
   "language": "python",
   "name": "python3"
  },
  "language_info": {
   "codemirror_mode": {
    "name": "ipython",
    "version": 3
   },
   "file_extension": ".py",
   "mimetype": "text/x-python",
   "name": "python",
   "nbconvert_exporter": "python",
   "pygments_lexer": "ipython3",
   "version": "3.11.4"
  }
 },
 "nbformat": 4,
 "nbformat_minor": 2
}
