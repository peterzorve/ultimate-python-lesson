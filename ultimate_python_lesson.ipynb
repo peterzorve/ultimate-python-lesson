{
 "cells": [
  {
   "cell_type": "markdown",
   "metadata": {},
   "source": [
    "<h4 style=\"background-color: orange; color: white; font-family: Consolas, sans-serif; border-radius: 3px; padding: 3px; padding-left: 10px; padding-top: 10px; padding-bottom: 10px \">\n",
    "    Chapter 1: Packages Managers\n",
    "</h4>\n"
   ]
  },
  {
   "cell_type": "markdown",
   "metadata": {},
   "source": [
    "<h4 style=\"background-color: black; color: orange; font-family: Consolas, sans-serif; border-radius: 3px; padding: 3px; padding-left: 10px;\">\n",
    "    1. Pip\n",
    "</h4>\n"
   ]
  },
  {
   "cell_type": "markdown",
   "metadata": {},
   "source": [
    "    pip is the standard package manager for Python. Think of it as a tool that helps you install, update, and manage external Python libraries (packages) from the Python Package Index (PyPI), which is like a huge online warehouse of Python code.\n",
    "\n",
    "    For example, if you want to use the requests library to make HTTP requests in Python, you don’t have to manually download its code. Instead, you simply run:\n",
    "\n",
    "    pip install requests\n"
   ]
  },
  {
   "cell_type": "markdown",
   "metadata": {},
   "source": [
    "#### Key commands with pip\n",
    "\n",
    "✅ Install a package\n",
    "\n",
    "    pip install package_name\n",
    "\n",
    "✅ Upgrade a package\n",
    "\n",
    "    pip install --upgrade package_name\n",
    "\n",
    "✅ Uninstall a package\n",
    "\n",
    "    pip uninstall package_name\n",
    "\n",
    "✅ List installed packages\n",
    "\n",
    "    pip list\n",
    "\n",
    "✅ Show info about a package\n",
    "\n",
    "    pip show package_name\n",
    "\n",
    "✅ Freeze (get versions of installed packages) — very useful for requirements files\n",
    "\n",
    "    pip freeze\n"
   ]
  },
  {
   "cell_type": "markdown",
   "metadata": {},
   "source": [
    "<h4 style=\"background-color: black; color: orange; font-family: Consolas, sans-serif; border-radius: 3px; padding: 3px; padding-left: 10px;\">\n",
    "    2. Conda\n",
    "</h4>\n"
   ]
  },
  {
   "cell_type": "markdown",
   "metadata": {},
   "source": [
    "While pip is the default Python-only package manager, conda is a general-purpose package manager and environment manager that works for any kind of software, not just Python — for example, C libraries, R packages, even compilers.\n"
   ]
  },
  {
   "cell_type": "markdown",
   "metadata": {},
   "source": [
    "### Example conda commands\n",
    "\n",
    "✅ Create an environment\n",
    "\n",
    "    conda create --name myenv python=3.10\n",
    "\n",
    "✅ Activate an environment\n",
    "\n",
    "    conda activate myenv\n",
    "\n",
    "✅ Install a package\n",
    "\n",
    "    conda install numpy\n",
    "\n",
    "✅ List environments\n",
    "\n",
    "    conda env list\n",
    "\n",
    "✅ List packages in the current environment\n",
    "\n",
    "    conda list\n",
    "\n",
    "✅ Remove an environment\n",
    "\n",
    "    conda remove --name myenv --all\n"
   ]
  },
  {
   "cell_type": "markdown",
   "metadata": {},
   "source": [
    "<h4 style=\"background-color: orange; color: white; font-family: Consolas, sans-serif; border-radius: 3px; padding: 3px; padding-left: 10px; padding-top: 10px; padding-bottom: 10px \">\n",
    "    Chapter 1: Basics of Python\n",
    "</h4>\n"
   ]
  },
  {
   "cell_type": "markdown",
   "metadata": {},
   "source": [
    "<h4 style=\"background-color: black; color: orange; font-family: Consolas, sans-serif; border-radius: 3px; padding: 3px; padding-left: 10px;\">\n",
    "    1.1. Basic Syntax\n",
    "</h4>\n"
   ]
  },
  {
   "cell_type": "markdown",
   "metadata": {},
   "source": [
    "Let’s break down basic Python syntax clearly and simply\n"
   ]
  },
  {
   "cell_type": "markdown",
   "metadata": {},
   "source": [
    "#### 1️⃣ Printing output\n",
    "\n",
    "    Use the print() function:\n"
   ]
  },
  {
   "cell_type": "code",
   "execution_count": 12,
   "metadata": {},
   "outputs": [
    {
     "name": "stdout",
     "output_type": "stream",
     "text": [
      "Hello, world!\n",
      "I hope I finished this chapter today\n"
     ]
    }
   ],
   "source": [
    "print(\"Hello, world!\")\n",
    "print(\"I hope I finished this chapter today\")"
   ]
  },
  {
   "cell_type": "markdown",
   "metadata": {},
   "source": [
    "### 2️⃣ Comments\n",
    "\n",
    "    Comments start with # and are ignored by Python:\n"
   ]
  },
  {
   "cell_type": "code",
   "execution_count": 13,
   "metadata": {},
   "outputs": [
    {
     "name": "stdout",
     "output_type": "stream",
     "text": [
      "Comments are ignored by Python\n"
     ]
    }
   ],
   "source": [
    "# This is a comment\n",
    "print(\"Comments are ignored by Python\")"
   ]
  },
  {
   "cell_type": "markdown",
   "metadata": {},
   "source": [
    "### 3️⃣ Variables\n",
    "\n",
    "    You do not declare types explicitly (Python is dynamically typed):\n"
   ]
  },
  {
   "cell_type": "code",
   "execution_count": 14,
   "metadata": {},
   "outputs": [],
   "source": [
    "x = 5\n",
    "name = \"Alice\"\n",
    "pi = 3.14159"
   ]
  },
  {
   "cell_type": "markdown",
   "metadata": {},
   "source": [
    "### 4️⃣ Indentation (very important in Python)\n",
    "\n",
    "    Python uses indentation to define code blocks — no {} braces like in C/C++/Java:\n"
   ]
  },
  {
   "cell_type": "code",
   "execution_count": 15,
   "metadata": {},
   "outputs": [
    {
     "name": "stdout",
     "output_type": "stream",
     "text": [
      "x is positive\n"
     ]
    }
   ],
   "source": [
    "if x > 0:\n",
    "    print(\"x is positive\")\n",
    "else:\n",
    "    print(\"x is non-positive\")"
   ]
  },
  {
   "cell_type": "markdown",
   "metadata": {},
   "source": [
    "### 5️⃣ Data types\n",
    "\n",
    "    Some common ones:\n"
   ]
  },
  {
   "cell_type": "markdown",
   "metadata": {},
   "source": [
    "    integer → 5\n",
    "    float → 3.14\n",
    "    string → \"hello\"\n",
    "    boolean → True / False\n",
    "    list → [1, 2, 3]\n",
    "    dictionary → {\"key\": \"value\"}\n"
   ]
  },
  {
   "cell_type": "code",
   "execution_count": 16,
   "metadata": {},
   "outputs": [],
   "source": [
    "my_age = 10     # Integer\n",
    "my_salary_rate = 10.99     # Float\n",
    "my_name = \"Peter Zorve\"     # String\n",
    "can_vote = False     # Boolean\n",
    "my_wardrope = [\"shoe\", \"t-shirt\", \"pants\", \"belt\"]      # List\n",
    "my_data = {\"address\": \"Finland\", \"email\": \"peter.zorve@eduzolve.com\", \"favorate-spot\": \"football\"}     # dictionary\n"
   ]
  },
  {
   "cell_type": "markdown",
   "metadata": {},
   "source": [
    "### 6️⃣ Functions\n",
    "\n",
    "    Defined using def:\n"
   ]
  },
  {
   "cell_type": "code",
   "execution_count": 17,
   "metadata": {},
   "outputs": [
    {
     "name": "stdout",
     "output_type": "stream",
     "text": [
      "Hello Peter Zorve!\n"
     ]
    }
   ],
   "source": [
    "def greet(name):\n",
    "    print(\"Hello \" + name + \"!\")\n",
    "\n",
    "greet(\"Peter Zorve\")"
   ]
  },
  {
   "cell_type": "markdown",
   "metadata": {},
   "source": [
    "### 7️⃣ Loops\n",
    "\n",
    "    For loop over a list:\n"
   ]
  },
  {
   "cell_type": "code",
   "execution_count": 18,
   "metadata": {},
   "outputs": [
    {
     "name": "stdout",
     "output_type": "stream",
     "text": [
      "1\n",
      "2\n",
      "3\n"
     ]
    }
   ],
   "source": [
    "for i in [1, 2, 3]:\n",
    "    print(i)"
   ]
  },
  {
   "cell_type": "markdown",
   "metadata": {},
   "source": [
    "### While loop:\n"
   ]
  },
  {
   "cell_type": "code",
   "execution_count": 19,
   "metadata": {},
   "outputs": [
    {
     "name": "stdout",
     "output_type": "stream",
     "text": [
      "0\n",
      "1\n",
      "2\n",
      "3\n",
      "4\n"
     ]
    }
   ],
   "source": [
    "count = 0\n",
    "while count < 5:\n",
    "    print(count)\n",
    "    count += 1"
   ]
  },
  {
   "cell_type": "markdown",
   "metadata": {},
   "source": [
    "### 8️⃣ Importing modules\n",
    "\n",
    "Python uses import to bring in modules:\n"
   ]
  },
  {
   "cell_type": "code",
   "execution_count": 20,
   "metadata": {},
   "outputs": [
    {
     "name": "stdout",
     "output_type": "stream",
     "text": [
      "4.0\n"
     ]
    }
   ],
   "source": [
    "import math\n",
    "print(math.sqrt(16))"
   ]
  },
  {
   "cell_type": "markdown",
   "metadata": {},
   "source": [
    "<h4 style=\"background-color: black; color: orange; font-family: Consolas, sans-serif; border-radius: 3px; padding: 3px; padding-left: 10px;\">\n",
    "    1.2. Python Variables\n",
    "</h4>\n"
   ]
  },
  {
   "cell_type": "markdown",
   "metadata": {},
   "source": [
    "<h4 style=\"background-color: black; color: orange; font-family: Consolas, sans-serif; border-radius: 3px; padding: 3px; padding-left: 10px;\">\n",
    "    1.3. Data Types\n",
    "</h4>\n"
   ]
  },
  {
   "cell_type": "markdown",
   "metadata": {},
   "source": [
    "<h4 style=\"background-color: black; color: orange; font-family: Consolas, sans-serif; border-radius: 3px; padding: 3px; padding-left: 10px;\">\n",
    "    1.4. Conditions\n",
    "</h4>\n"
   ]
  },
  {
   "cell_type": "markdown",
   "metadata": {},
   "source": [
    "<h4 style=\"background-color: black; color: orange; font-family: Consolas, sans-serif; border-radius: 3px; padding: 3px; padding-left: 10px;\">\n",
    "    1.5. Loops\n",
    "</h4>\n"
   ]
  },
  {
   "cell_type": "markdown",
   "metadata": {},
   "source": [
    "<h4 style=\"background-color: black; color: orange; font-family: Consolas, sans-serif; border-radius: 3px; padding: 3px; padding-left: 10px;\">\n",
    "    1.6. Exceptions\n",
    "</h4>\n"
   ]
  },
  {
   "cell_type": "markdown",
   "metadata": {},
   "source": [
    "<h4 style=\"background-color: black; color: orange; font-family: Consolas, sans-serif; border-radius: 3px; padding: 3px; padding-left: 10px;\">\n",
    "    1.7. Functions\n",
    "</h4>\n"
   ]
  },
  {
   "cell_type": "markdown",
   "metadata": {},
   "source": [
    "<h4 style=\"background-color: orange; color: white; font-family: Consolas, sans-serif; border-radius: 3px; padding: 3px; padding-left: 10px; padding-top: 10px; padding-bottom: 10px \">\n",
    "    Chapter 2: Advanced Concepts\n",
    "</h4>\n"
   ]
  },
  {
   "cell_type": "markdown",
   "metadata": {},
   "source": [
    "<h4 style=\"background-color: black; color: orange; font-family: Consolas, sans-serif; border-radius: 3px; padding: 3px; padding-left: 10px;\">\n",
    "    2.1. List comprehensions\n",
    "</h4>\n"
   ]
  },
  {
   "cell_type": "markdown",
   "metadata": {},
   "source": [
    "<h4 style=\"background-color: black; color: orange; font-family: Consolas, sans-serif; border-radius: 3px; padding: 3px; padding-left: 10px;\">\n",
    "    2.2. Generators\n",
    "</h4>\n"
   ]
  },
  {
   "cell_type": "markdown",
   "metadata": {},
   "source": [
    "<h4 style=\"background-color: black; color: orange; font-family: Consolas, sans-serif; border-radius: 3px; padding: 3px; padding-left: 10px;\">\n",
    "    2.3. Expressions\n",
    "</h4>\n"
   ]
  },
  {
   "cell_type": "markdown",
   "metadata": {},
   "source": [
    "<h4 style=\"background-color: black; color: orange; font-family: Consolas, sans-serif; border-radius: 3px; padding: 3px; padding-left: 10px;\">\n",
    "    2.4. Closures\n",
    "</h4>\n"
   ]
  },
  {
   "cell_type": "markdown",
   "metadata": {},
   "source": [
    "<h4 style=\"background-color: black; color: orange; font-family: Consolas, sans-serif; border-radius: 3px; padding: 3px; padding-left: 10px;\">\n",
    "    2.5. Regex \n",
    "</h4>\n"
   ]
  },
  {
   "cell_type": "markdown",
   "metadata": {},
   "source": [
    "<h4 style=\"background-color: black; color: orange; font-family: Consolas, sans-serif; border-radius: 3px; padding: 3px; padding-left: 10px;\">\n",
    "    2.6. Decorators\n",
    "</h4>\n"
   ]
  },
  {
   "cell_type": "markdown",
   "metadata": {},
   "source": [
    "<h4 style=\"background-color: black; color: orange; font-family: Consolas, sans-serif; border-radius: 3px; padding: 3px; padding-left: 10px;\">\n",
    "    2.7. Iterations\n",
    "</h4>\n"
   ]
  },
  {
   "cell_type": "markdown",
   "metadata": {},
   "source": [
    "<h4 style=\"background-color: black; color: orange; font-family: Consolas, sans-serif; border-radius: 3px; padding: 3px; padding-left: 10px;\">\n",
    "    2.8. Lamdas \n",
    "</h4>\n"
   ]
  },
  {
   "cell_type": "markdown",
   "metadata": {},
   "source": [
    "<h4 style=\"background-color: black; color: orange; font-family: Consolas, sans-serif; border-radius: 3px; padding: 3px; padding-left: 10px;\">\n",
    "    2.9. Functional Programming\n",
    "</h4>\n"
   ]
  },
  {
   "cell_type": "markdown",
   "metadata": {},
   "source": [
    "<h4 style=\"background-color: black; color: orange; font-family: Consolas, sans-serif; border-radius: 3px; padding: 3px; padding-left: 10px;\">\n",
    "    2.10. Map, Reduce, Filters\n",
    "</h4>\n"
   ]
  },
  {
   "cell_type": "markdown",
   "metadata": {},
   "source": [
    "<h4 style=\"background-color: black; color: orange; font-family: Consolas, sans-serif; border-radius: 3px; padding: 3px; padding-left: 10px;\">\n",
    "    2.11. Threading\n",
    "</h4>\n"
   ]
  },
  {
   "cell_type": "markdown",
   "metadata": {},
   "source": [
    "<h4 style=\"background-color: black; color: orange; font-family: Consolas, sans-serif; border-radius: 3px; padding: 3px; padding-left: 10px;\">\n",
    "    2.12. Magic Methods\n",
    "</h4>\n"
   ]
  },
  {
   "cell_type": "markdown",
   "metadata": {},
   "source": [
    "<h4 style=\"background-color: orange; color: white; font-family: Consolas, sans-serif; border-radius: 3px; padding: 3px; padding-left: 10px; padding-top: 10px; padding-bottom: 10px \">\n",
    "    Chapter 3: Web Frameworks\n",
    "</h4>\n"
   ]
  },
  {
   "cell_type": "markdown",
   "metadata": {},
   "source": [
    "<h4 style=\"background-color: black; color: orange; font-family: Consolas, sans-serif; border-radius: 3px; padding: 3px; padding-left: 10px;\">\n",
    "    3. Django\n",
    "</h4>\n"
   ]
  },
  {
   "cell_type": "markdown",
   "metadata": {},
   "source": [
    "<h4 style=\"background-color: black; color: orange; font-family: Consolas, sans-serif; border-radius: 3px; padding: 3px; padding-left: 10px;\">\n",
    "    3. Flask\n",
    "</h4>\n"
   ]
  },
  {
   "cell_type": "markdown",
   "metadata": {},
   "source": [
    "<h4 style=\"background-color: black; color: orange; font-family: Consolas, sans-serif; border-radius: 3px; padding: 3px; padding-left: 10px;\">\n",
    "    3. FastAPI\n",
    "</h4>\n"
   ]
  },
  {
   "cell_type": "markdown",
   "metadata": {},
   "source": [
    "<h4 style=\"background-color: orange; color: white; font-family: Consolas, sans-serif; border-radius: 3px; padding: 3px; padding-left: 10px; padding-top: 10px; padding-bottom: 10px \">\n",
    "    Chapter 4: Object Oriented Programming\n",
    "</h4>\n"
   ]
  },
  {
   "cell_type": "markdown",
   "metadata": {},
   "source": [
    "    OOP (Object-Oriented Programming) in Python is a programming paradigm based on the concept of “objects,” which are reusable, self-contained pieces of code that bundle together data (attributes) and behavior (methods). In Python, OOP allows you to create classes, which serve as blueprints for creating objects. This helps you organize code in a logical, modular way and makes it easier to maintain, extend, and reuse.\n",
    "\n",
    "### Key OOP concepts in Python include:\n",
    "\n",
    "✅ Class — a template for creating objects (like a blueprint).\n",
    "\n",
    "✅ Object — an instance of a class.\n",
    "\n",
    "✅ Attributes — variables stored inside an object (its data).\n",
    "\n",
    "✅ Methods — functions defined inside a class (its behavior).\n",
    "\n",
    "✅ Inheritance — lets you create new classes from existing ones to reuse or extend functionality.\n",
    "\n",
    "✅ Encapsulation — keeps data safe by bundling attributes and methods inside classes.\n",
    "\n",
    "✅ Polymorphism — lets you use the same method name in different classes, behaving differently depending on context.\n"
   ]
  },
  {
   "cell_type": "code",
   "execution_count": 21,
   "metadata": {},
   "outputs": [
    {
     "name": "stdout",
     "output_type": "stream",
     "text": [
      "Buddy says woof!\n"
     ]
    }
   ],
   "source": [
    "class Dog:\n",
    "    def __init__(self, name):\n",
    "        self.name = name\n",
    "\n",
    "    def bark(self):\n",
    "        print(f\"{self.name} says woof!\")\n",
    "\n",
    "# create an object\n",
    "my_dog = Dog(\"Buddy\")\n",
    "my_dog.bark()  # Buddy says woof!\n"
   ]
  },
  {
   "cell_type": "markdown",
   "metadata": {},
   "source": [
    "### Example 1.\n",
    "\n",
    "    Let us consider some examples of OOP and how it is written. Our first OOP will be called SimpleOperation\n"
   ]
  },
  {
   "cell_type": "code",
   "execution_count": 22,
   "metadata": {},
   "outputs": [
    {
     "name": "stdout",
     "output_type": "stream",
     "text": [
      "Addition:       80 + 10 = 90\n",
      "Subtraction:    80 - 10 = 70\n",
      "Multiplication: 80 * 10 = 800\n",
      "Division:       80 / 10 = 8.0\n"
     ]
    }
   ],
   "source": [
    "class SimpleOperation():\n",
    "    def __init__(self, x1, x2):     # Special method : Instantiate the methods\n",
    "        self.number1 = x1           # Attribute                # Anytime the class is called, the __init__() method is called \n",
    "        self.number2 = x2           # Attribute\n",
    "\n",
    "    def addition(self):                                 # Method 1                  \n",
    "        return  f\"Addition:       {self.number1} + {self.number2} = {self.number1 + self.number2}\" \n",
    "\n",
    "    def subtraction(self):                              # Method 2\n",
    "        return f\"Subtraction:    {self.number1} - {self.number2} = {self.number1 - self.number2}\" \n",
    "\n",
    "    def multiplication(self):                           # Method 3\n",
    "        return f\"Multiplication: {self.number1} * {self.number2} = {self.number1 * self.number2}\" \n",
    "\n",
    "    def division(self):                                 # Method 4\n",
    "        return f\"Division:       {self.number1} / {self.number2} = {self.number1 / self.number2}\" \n",
    "\n",
    "\n",
    "simple_operation = SimpleOperation(80, 10)              # Object\n",
    "\n",
    "addition = simple_operation.addition()\n",
    "substraction = simple_operation.subtraction()\n",
    "multiplication = simple_operation.multiplication()\n",
    "division = simple_operation.division()\n",
    "\n",
    "print(addition)\n",
    "print(substraction)\n",
    "print(multiplication)\n",
    "print(division)"
   ]
  },
  {
   "cell_type": "markdown",
   "metadata": {},
   "source": [
    "### Example 2\n",
    "\n",
    "    Let's create a second OOP that check the length, type and compare two difference variable. Let's call it CheckVariables\n"
   ]
  },
  {
   "cell_type": "code",
   "execution_count": 23,
   "metadata": {},
   "outputs": [
    {
     "name": "stdout",
     "output_type": "stream",
     "text": [
      "False\n",
      "(<class 'int'>, <class 'float'>)\n",
      "(2, 7)\n"
     ]
    }
   ],
   "source": [
    "class CheckVariables():\n",
    "    def __init__(self, x1, x2):\n",
    "        self.x1 = x1 \n",
    "        self.x2 = x2 \n",
    "    \n",
    "    def length(self):\n",
    "        return len(str(self.x1)), len(str(self.x2))\n",
    "    \n",
    "    def data_type(self):\n",
    "        return type(self.x1), type(self.x2)\n",
    "\n",
    "    def is_equal(self):\n",
    "        return self.x1 == self.x2 \n",
    "\n",
    "\n",
    "check = CheckVariables(15, 200.001)\n",
    "\n",
    "equal = check.is_equal()\n",
    "data_type = check.data_type()\n",
    "length = check.length()\n",
    "\n",
    "print(equal)\n",
    "print(data_type)\n",
    "print(length)"
   ]
  },
  {
   "cell_type": "markdown",
   "metadata": {},
   "source": [
    "### Example 3\n",
    "\n",
    "    Let's create two OOPs, the first to create a student database, the second add the student to a Course\n"
   ]
  },
  {
   "cell_type": "code",
   "execution_count": 24,
   "metadata": {},
   "outputs": [
    {
     "name": "stdout",
     "output_type": "stream",
     "text": [
      "30\n",
      "Peter Zorve\n",
      "80\n",
      "PETER ZORVE  was added Successfully\n",
      "BEATRICE ENYONAM  was added Successfully\n",
      "JAMES OBBIN  was added Successfully\n",
      "JOHN WILLS  was added Successfully\n",
      "WILLIAMS JUNE  was added Successfully\n",
      "Adding   BILL GATE   failed\n",
      "85.0\n",
      "['Beatrice Enyonam', 'James Obbin', 'John Wills', 'Williams June']\n"
     ]
    }
   ],
   "source": [
    "class Student():\n",
    "    def __init__(self, name, age, grade):\n",
    "        self.name = name \n",
    "        self.age  = age  \n",
    "        self.grade = grade \n",
    "\n",
    "    def get_name(self):\n",
    "        return self.name \n",
    "    \n",
    "    def get_grade(self):\n",
    "        return self.grade \n",
    "\n",
    "    def get_age(self):\n",
    "        return self.age \n",
    "\n",
    "\n",
    "class Course():\n",
    "    def __init__(self, course, max_students):\n",
    "        self.course = course \n",
    "        self.students = []\n",
    "        self.max_students = max_students \n",
    "        \n",
    "    def add_student(self, name):\n",
    "        if len(self.students) <= self.max_students-1:\n",
    "            self.students.append(name)\n",
    "            return f'{name.get_name().upper()}  was added Successfully' \n",
    "        return f'Adding   {name.get_name().upper()}   failed' \n",
    "    \n",
    "    def remove_student(self, name):\n",
    "        if name in self.students:\n",
    "            self.students.remove(name)\n",
    "\n",
    "    def get_average_grade(self): \n",
    "        total_grade = 0 \n",
    "        for i in self.students: \n",
    "            total_grade = total_grade + i.get_grade()\n",
    "        average_grade = total_grade / len(self.students)\n",
    "        return average_grade \n",
    "\n",
    "    def get_student_names(self):\n",
    "        only_names = [] \n",
    "        for i in self.students: \n",
    "            only_names.append(i.get_name())\n",
    "        return only_names\n",
    "\n",
    "\n",
    "student1 = Student('Peter Zorve', 30, 80)\n",
    "student2 = Student('Beatrice Enyonam', 35, 90)\n",
    "student3 = Student('James Obbin', 30, 80)\n",
    "student4 = Student('John Wills', 35, 90)\n",
    "student5 = Student('Williams June', 30, 80)\n",
    "student6 = Student('Bill Gate', 35, 90)\n",
    "\n",
    "course = Course('Python Class', 5)\n",
    "\n",
    "\n",
    "print(student1.age)\n",
    "print(student1.name)\n",
    "print(student1.grade)\n",
    "\n",
    "print(course.add_student(student1))\n",
    "print(course.add_student(student2))\n",
    "print(course.add_student(student3))\n",
    "print(course.add_student(student4))\n",
    "print(course.add_student(student5))\n",
    "print(course.add_student(student6))\n",
    "\n",
    "\n",
    "course.remove_student(student1)\n",
    "\n",
    "print(course.get_average_grade())\n",
    "print(course.get_student_names())\n",
    "\n"
   ]
  },
  {
   "cell_type": "markdown",
   "metadata": {},
   "source": [
    "### INHERITANCE\n"
   ]
  },
  {
   "cell_type": "markdown",
   "metadata": {},
   "source": [
    "#### Before\n",
    "\n",
    "    In the first senario, shown below, both Cat and Dog classes have name and age attributes, the only difference is a Cat speak (MEOOW) differently than a Dog (BARK). They both have the property speak, but their outputs are different\n",
    "    The naive way of writing this will be as follows.\n"
   ]
  },
  {
   "cell_type": "code",
   "execution_count": 25,
   "metadata": {},
   "outputs": [
    {
     "name": "stdout",
     "output_type": "stream",
     "text": [
      "My name Catty. I am 13 years old. I MEOOOOW\n",
      "My name Doggy. I am 5 years old. I BARK\n"
     ]
    }
   ],
   "source": [
    "class Cat():\n",
    "    def __init__(self, name, age):\n",
    "        self.name = name \n",
    "        self.age  = age \n",
    "    def speak(self):\n",
    "        return f'My name {self.name}. I am {self.age} years old. I MEOOOOW'\n",
    "    \n",
    "class Dog():\n",
    "    def __init__(self, name, age):\n",
    "        self.name = name \n",
    "        self.age = age \n",
    "    def speak(self):\n",
    "        return f'My name {self.name}. I am {self.age} years old. I BARK'\n",
    "\n",
    "\n",
    "cat = Cat('Catty', 13)\n",
    "dog = Dog('Doggy', 5)\n",
    "\n",
    "print(cat.speak())\n",
    "print(dog.speak())\n"
   ]
  },
  {
   "cell_type": "markdown",
   "metadata": {},
   "source": [
    "#### After\n",
    "\n",
    "    We can now have a parent class, called Pet, that contains all the common characteristics and the Cat and Dog class could inherit that.\n"
   ]
  },
  {
   "cell_type": "code",
   "execution_count": 26,
   "metadata": {},
   "outputs": [
    {
     "name": "stdout",
     "output_type": "stream",
     "text": [
      "I am just a Pet. I do not know what to say\n",
      "My name Catty. I am 13 years old. I MEOOOOW\n",
      "My name Doggy. I am 5 years old. I BARK\n",
      "I am Fishy. I just Bubble in the Lake\n"
     ]
    }
   ],
   "source": [
    "\n",
    "class Pet():\n",
    "    def __init__(self, name, age):\n",
    "        self.name = name \n",
    "        self.age  = age \n",
    "\n",
    "    def speak(self):\n",
    "        return 'I am just a Pet. I do not know what to say'\n",
    "\n",
    "class Cat(Pet):\n",
    "    def speak(self):\n",
    "        return f'My name {self.name}. I am {self.age} years old. I MEOOOOW'\n",
    "    \n",
    "class Dog(Pet):\n",
    "    def speak(self):\n",
    "        return f'My name {self.name}. I am {self.age} years old. I BARK'\n",
    "\n",
    "\n",
    "    \n",
    "class Fish(Pet):\n",
    "    def __init__(self, name, age, water):\n",
    "        super().__init__(name, age)\n",
    "        self.water = water \n",
    "\n",
    "    def speak(self):\n",
    "        return f'I am {self.name}. I just Bubble in the {self.water}'\n",
    "        \n",
    "\n",
    "pet = Pet('Pet', 15)\n",
    "cat = Cat('Catty', 13)\n",
    "dog = Dog('Doggy', 5)\n",
    "fish = Fish('Fishy', 20, 'Lake')\n",
    "\n",
    "print(pet.speak())\n",
    "print(cat.speak())\n",
    "print(dog.speak())\n",
    "print(fish.speak())\n",
    "\n"
   ]
  },
  {
   "cell_type": "markdown",
   "metadata": {},
   "source": [
    "### ENCAPSULATION\n",
    "\n",
    "    In encapsulation, we try to hide some of the features, variables, and method.\n",
    "    We can do that by using a double underscore\n"
   ]
  },
  {
   "cell_type": "code",
   "execution_count": 27,
   "metadata": {},
   "outputs": [
    {
     "name": "stdout",
     "output_type": "stream",
     "text": [
      "800\n",
      "720.0\n"
     ]
    }
   ],
   "source": [
    "class Payment():\n",
    "    def __init__(self, price):\n",
    "        self.price = price  + (0.25 * price)\n",
    "\n",
    "    def calculate_discount(self, discount):\n",
    "        return self.price - (self.price * (discount/100))\n",
    "\n",
    "    def get_price(self):\n",
    "        return self.price \n",
    "\n",
    "    def final_price(self, discount):\n",
    "        return  self.calculate_discount(discount)\n",
    "    \n",
    "\"\"\" If the class is like the above, the user can modify the varible (price) in the class from the outside. \"\"\"\n",
    "\n",
    "pay = Payment(200)\n",
    "\n",
    "pay.price = 800 \n",
    "\n",
    "print(pay.get_price())\n",
    "print(pay.final_price(10))"
   ]
  },
  {
   "cell_type": "markdown",
   "metadata": {},
   "source": [
    "#### After\n"
   ]
  },
  {
   "cell_type": "code",
   "execution_count": 28,
   "metadata": {},
   "outputs": [
    {
     "name": "stdout",
     "output_type": "stream",
     "text": [
      "250.0\n",
      "225.0\n"
     ]
    }
   ],
   "source": [
    "class Payment():\n",
    "    def __init__(self, price):\n",
    "        self.__price = price  + (0.25 * price)\n",
    "\n",
    "    def __calculate_discount(self, discount):\n",
    "        return self.__price - (self.__price * (discount/100))\n",
    "\n",
    "    def get_price(self):\n",
    "        return self.__price \n",
    "\n",
    "    def final_price(self, discount):\n",
    "        return  self.__calculate_discount(discount)\n",
    "    \n",
    "\n",
    "\"\"\" Here, the code and class works exactly the same way, but the user cannot modify the variable (price) from outside the class \"\"\"\n",
    "\n",
    "pay = Payment(200)\n",
    "\n",
    "pay.__price = 800 \n",
    "\n",
    "print(pay.get_price())\n",
    "print(pay.final_price(10))\n"
   ]
  },
  {
   "cell_type": "markdown",
   "metadata": {},
   "source": [
    "### ABSTRACTION\n",
    "\n",
    "    In abstraction, we try to hide some of the and method and how it is implemented from the user\n",
    "    The user can only user the method but have no idea how it was implent. We achieve that with a underscore\n"
   ]
  },
  {
   "cell_type": "code",
   "execution_count": 29,
   "metadata": {},
   "outputs": [
    {
     "data": {
      "text/plain": [
       "' Here the mothod calculate_discount() is public '"
      ]
     },
     "execution_count": 29,
     "metadata": {},
     "output_type": "execute_result"
    }
   ],
   "source": [
    "class Payment():\n",
    "    def __init__(self, price):\n",
    "        self.price = price  + (0.25 * price)\n",
    "\n",
    "    def calculate_discount(self, discount):\n",
    "        return self.price - (self.price * (discount/100))\n",
    "\n",
    "    def get_price(self):\n",
    "        return self.price \n",
    "\n",
    "    def final_price(self, discount):\n",
    "        return  self.calculate_discount(discount)\n",
    "    \n",
    "\"\"\" Here the mothod calculate_discount() is public \"\"\""
   ]
  },
  {
   "cell_type": "markdown",
   "metadata": {},
   "source": [
    "#### After\n"
   ]
  },
  {
   "cell_type": "code",
   "execution_count": 30,
   "metadata": {},
   "outputs": [
    {
     "data": {
      "text/plain": [
       "' Here the mothod __calculate_discount() is private '"
      ]
     },
     "execution_count": 30,
     "metadata": {},
     "output_type": "execute_result"
    }
   ],
   "source": [
    "class Payment():\n",
    "    def __init__(self, price):\n",
    "        self.__price = price  + (0.25 * price)\n",
    "\n",
    "    def __calculate_discount(self, discount):\n",
    "        return self.__price - (self.__price * (discount/100))\n",
    "\n",
    "    def get_price(self):\n",
    "        return self.__price \n",
    "\n",
    "    def final_price(self, discount):\n",
    "        return  self.__calculate_discount(discount)\n",
    "    \n",
    "\n",
    "\"\"\" Here the mothod __calculate_discount() is private \"\"\""
   ]
  },
  {
   "cell_type": "markdown",
   "metadata": {},
   "source": [
    "### Polymorphism\n"
   ]
  },
  {
   "cell_type": "code",
   "execution_count": 31,
   "metadata": {},
   "outputs": [
    {
     "name": "stdout",
     "output_type": "stream",
     "text": [
      "Greeting in English is - Good Morning\n",
      "Greeting in French is  - Bonjour\n"
     ]
    }
   ],
   "source": [
    "class English():\n",
    "    def hello(self):\n",
    "        return 'Greeting in English is - Good Morning'\n",
    "    \n",
    "\n",
    "class French():\n",
    "    def hello(self):\n",
    "        return 'Greeting in French is  - Bonjour'\n",
    "\n",
    "\n",
    "english = English()\n",
    "french  = French()\n",
    "\n",
    "\n",
    "def speaking(greet):\n",
    "    return  greet.hello()\n",
    "\n",
    "print(speaking(english))\n",
    "print(speaking(french))"
   ]
  },
  {
   "cell_type": "markdown",
   "metadata": {},
   "source": [
    "<h4 style=\"background-color: orange; color: white; font-family: Consolas, sans-serif; border-radius: 3px; padding: 3px; padding-left: 10px; padding-top: 10px; padding-bottom: 10px \">\n",
    "    Chapter 5: Data Science\n",
    "</h4>\n"
   ]
  },
  {
   "cell_type": "markdown",
   "metadata": {},
   "source": [
    "<h4 style=\"background-color: black; color: orange; font-family: Consolas, sans-serif; border-radius: 3px; padding: 3px; padding-left: 10px;\">\n",
    "    5. NumPy\n",
    "</h4>\n"
   ]
  },
  {
   "cell_type": "markdown",
   "metadata": {},
   "source": [
    "<h4 style=\"background-color: black; color: orange; font-family: Consolas, sans-serif; border-radius: 3px; padding: 3px; padding-left: 10px;\">\n",
    "    5. Pandas\n",
    "</h4>\n"
   ]
  },
  {
   "cell_type": "markdown",
   "metadata": {},
   "source": [
    "<h4 style=\"background-color: black; color: orange; font-family: Consolas, sans-serif; border-radius: 3px; padding: 3px; padding-left: 10px;\">\n",
    "    5. Matplotlib\n",
    "</h4>\n"
   ]
  },
  {
   "cell_type": "markdown",
   "metadata": {},
   "source": [
    "<h4 style=\"background-color: black; color: orange; font-family: Consolas, sans-serif; border-radius: 3px; padding: 3px; padding-left: 10px;\">\n",
    "    5. Seaborn\n",
    "</h4>\n"
   ]
  },
  {
   "cell_type": "markdown",
   "metadata": {},
   "source": [
    "<h4 style=\"background-color: black; color: orange; font-family: Consolas, sans-serif; border-radius: 3px; padding: 3px; padding-left: 10px;\">\n",
    "    5. Scikit-learn\n",
    "</h4>\n"
   ]
  },
  {
   "cell_type": "markdown",
   "metadata": {},
   "source": [
    "<h4 style=\"background-color: black; color: orange; font-family: Consolas, sans-serif; border-radius: 3px; padding: 3px; padding-left: 10px;\">\n",
    "    5. TensorFlow\n",
    "</h4>\n"
   ]
  },
  {
   "cell_type": "markdown",
   "metadata": {},
   "source": [
    "<h4 style=\"background-color: black; color: orange; font-family: Consolas, sans-serif; border-radius: 3px; padding: 3px; padding-left: 10px;\">\n",
    "    5. PyTorch\n",
    "</h4>\n"
   ]
  },
  {
   "cell_type": "markdown",
   "metadata": {},
   "source": [
    "<h4 style=\"background-color: orange; color: white; font-family: Consolas, sans-serif; border-radius: 3px; padding: 3px; padding-left: 10px; padding-top: 10px; padding-bottom: 10px \">\n",
    "    Chapter 6: Testing\n",
    "</h4>\n"
   ]
  },
  {
   "cell_type": "markdown",
   "metadata": {},
   "source": [
    "<h4 style=\"background-color: black; color: orange; font-family: Consolas, sans-serif; border-radius: 3px; padding: 3px; padding-left: 10px;\">\n",
    "    6. Unit Testing\n",
    "</h4>\n"
   ]
  },
  {
   "cell_type": "markdown",
   "metadata": {},
   "source": [
    "<h4 style=\"background-color: black; color: orange; font-family: Consolas, sans-serif; border-radius: 3px; padding: 3px; padding-left: 10px;\">\n",
    "    6. Integration Testing\n",
    "</h4>\n"
   ]
  },
  {
   "cell_type": "markdown",
   "metadata": {},
   "source": [
    "<h4 style=\"background-color: black; color: orange; font-family: Consolas, sans-serif; border-radius: 3px; padding: 3px; padding-left: 10px;\">\n",
    "    6. End-to-end testing\n",
    "</h4>\n"
   ]
  },
  {
   "cell_type": "markdown",
   "metadata": {},
   "source": [
    "<h4 style=\"background-color: black; color: orange; font-family: Consolas, sans-serif; border-radius: 3px; padding: 3px; padding-left: 10px;\">\n",
    "    6. Load testing\n",
    "</h4>\n"
   ]
  },
  {
   "cell_type": "markdown",
   "metadata": {},
   "source": [
    "<h4 style=\"background-color: orange; color: white; font-family: Consolas, sans-serif; border-radius: 3px; padding: 3px; padding-left: 10px; padding-top: 10px; padding-bottom: 10px \">\n",
    "    Chapter 7: Automation\n",
    "</h4>\n"
   ]
  },
  {
   "cell_type": "markdown",
   "metadata": {},
   "source": [
    "<h4 style=\"background-color: black; color: orange; font-family: Consolas, sans-serif; border-radius: 3px; padding: 3px; padding-left: 10px;\">\n",
    "    7. File Manipulations\n",
    "</h4>\n"
   ]
  },
  {
   "cell_type": "markdown",
   "metadata": {},
   "source": [
    "<h4 style=\"background-color: black; color: orange; font-family: Consolas, sans-serif; border-radius: 3px; padding: 3px; padding-left: 10px;\">\n",
    "    7. Web scrapping\n",
    "</h4>\n"
   ]
  },
  {
   "cell_type": "markdown",
   "metadata": {},
   "source": [
    "<h4 style=\"background-color: black; color: orange; font-family: Consolas, sans-serif; border-radius: 3px; padding: 3px; padding-left: 10px;\">\n",
    "    7. GUI Automations\n",
    "</h4>\n"
   ]
  },
  {
   "cell_type": "markdown",
   "metadata": {},
   "source": [
    "<h4 style=\"background-color: black; color: orange; font-family: Consolas, sans-serif; border-radius: 3px; padding: 3px; padding-left: 10px;\">\n",
    "    7. Network Automation\n",
    "</h4>\n"
   ]
  },
  {
   "cell_type": "markdown",
   "metadata": {},
   "source": [
    "<h4 style=\"background-color: orange; color: white; font-family: Consolas, sans-serif; border-radius: 3px; padding: 3px; padding-left: 10px; padding-top: 10px; padding-bottom: 10px \">\n",
    "    Chapter 8: DSA\n",
    "</h4>\n"
   ]
  },
  {
   "cell_type": "markdown",
   "metadata": {},
   "source": [
    "<h4 style=\"background-color: black; color: orange; font-family: Consolas, sans-serif; border-radius: 3px; padding: 3px; padding-left: 10px;\">\n",
    "    8. Arrays & Linked Lists\n",
    "</h4>\n"
   ]
  },
  {
   "cell_type": "markdown",
   "metadata": {},
   "source": [
    "<h4 style=\"background-color: black; color: orange; font-family: Consolas, sans-serif; border-radius: 3px; padding: 3px; padding-left: 10px;\">\n",
    "    8. Heaps, Stacks & Queue\n",
    "</h4>\n"
   ]
  },
  {
   "cell_type": "markdown",
   "metadata": {},
   "source": [
    "<h4 style=\"background-color: black; color: orange; font-family: Consolas, sans-serif; border-radius: 3px; padding: 3px; padding-left: 10px;\">\n",
    "    8. Harsh Tables\n",
    "</h4>\n"
   ]
  },
  {
   "cell_type": "markdown",
   "metadata": {},
   "source": [
    "<h4 style=\"background-color: black; color: orange; font-family: Consolas, sans-serif; border-radius: 3px; padding: 3px; padding-left: 10px;\">\n",
    "    8. Binary Search Trees\n",
    "</h4>\n"
   ]
  },
  {
   "cell_type": "markdown",
   "metadata": {},
   "source": [
    "<h4 style=\"background-color: black; color: orange; font-family: Consolas, sans-serif; border-radius: 3px; padding: 3px; padding-left: 10px;\">\n",
    "    8. Recursion\n",
    "</h4>\n"
   ]
  },
  {
   "cell_type": "markdown",
   "metadata": {},
   "source": [
    "<h4 style=\"background-color: black; color: orange; font-family: Consolas, sans-serif; border-radius: 3px; padding: 3px; padding-left: 10px;\">\n",
    "    8. Sorting Algorithms\n",
    "</h4>\n"
   ]
  },
  {
   "cell_type": "markdown",
   "metadata": {},
   "source": []
  },
  {
   "cell_type": "markdown",
   "metadata": {},
   "source": []
  },
  {
   "cell_type": "markdown",
   "metadata": {},
   "source": []
  },
  {
   "cell_type": "code",
   "execution_count": 32,
   "metadata": {},
   "outputs": [
    {
     "name": "stdout",
     "output_type": "stream",
     "text": [
      "The input you provided is not a string/text\n",
      "No character found\n"
     ]
    }
   ],
   "source": [
    "def charact_count(text): \n",
    "    count_dictionary = {}\n",
    "    if type(text) == str:\n",
    "        for character in text: \n",
    "            if character == \" \": \n",
    "                pass \n",
    "            else: \n",
    "                if character not in count_dictionary: \n",
    "                    count_dictionary[character] = 1\n",
    "                else: \n",
    "                    count_dictionary[character] = count_dictionary[character] + 1\n",
    "    else: \n",
    "        print(\"The input you provided is not a string/text\")\n",
    "    \n",
    "    if len(count_dictionary) == 0: \n",
    "        print(\"No character found\")\n",
    "    else: \n",
    "        print(count_dictionary)\n",
    "    return \n",
    "\n",
    "charact_count([\"111111111111111112\"])"
   ]
  }
 ],
 "metadata": {
  "kernelspec": {
   "display_name": "Python 3",
   "language": "python",
   "name": "python3"
  },
  "language_info": {
   "codemirror_mode": {
    "name": "ipython",
    "version": 3
   },
   "file_extension": ".py",
   "mimetype": "text/x-python",
   "name": "python",
   "nbconvert_exporter": "python",
   "pygments_lexer": "ipython3",
   "version": "3.11.4"
  }
 },
 "nbformat": 4,
 "nbformat_minor": 2
}
